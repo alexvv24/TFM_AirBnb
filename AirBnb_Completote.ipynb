{
 "cells": [
  {
   "cell_type": "markdown",
   "metadata": {},
   "source": [
    "## Limpieza de los datos de *AirBnb*"
   ]
  },
  {
   "cell_type": "markdown",
   "metadata": {},
   "source": [
    "En la [web](http://insideairbnb.com/get-the-data.html) tenemos 7 archivos diferentes sobre los establecimientos AirBnb en Madrid.  Estos archivos son:\n",
    "* listings.csv.gz \n",
    "* calendar.csv.gz \n",
    "* reviews.csv.gz\n",
    "* listings.csv\n",
    "* reviews.csv\n",
    "* neighbourhoods.csv\n",
    "* neighbourhoods.geojson\n",
    "\n",
    "Los que tienen la extensión .gz son datos sin agrupar que vienen en formato comprimido mientras que los que no la tienen son datos agregados.  Los dos últimos tienen la función de geolocalizar los apartamentos en el mapa."
   ]
  },
  {
   "cell_type": "code",
   "execution_count": 1,
   "metadata": {},
   "outputs": [],
   "source": [
    "import pandas as pd\n",
    "import matplotlib.pyplot as plt\n",
    "import seaborn as sns\n",
    "import re\n",
    "%matplotlib inline\n",
    "import seaborn as sns\n",
    "import numpy as np"
   ]
  },
  {
   "cell_type": "code",
   "execution_count": 2,
   "metadata": {},
   "outputs": [],
   "source": [
    "df_feb19 = pd.read_csv('Data/Lisboa/listings0.csv.gz',compression='gzip',low_memory=False)\n",
    "df_ene19 = pd.read_csv('Data/Lisboa/listings1.csv.gz',compression='gzip',low_memory=False)\n",
    "df_dic18 = pd.read_csv('Data/Lisboa/listings2.csv.gz',compression='gzip',low_memory=False)\n",
    "df_nov18 = pd.read_csv('Data/Lisboa/listings3.csv.gz',compression='gzip',low_memory=False)\n",
    "df_oct18 = pd.read_csv('Data/Lisboa/listings4.csv.gz',compression='gzip',low_memory=False)\n",
    "df_sep18 = pd.read_csv('Data/Lisboa/listings5.csv.gz',compression='gzip',low_memory=False)\n",
    "df_ago18 = pd.read_csv('Data/Lisboa/listings6.csv.gz',compression='gzip',low_memory=False)\n",
    "df_jul18 = pd.read_csv('Data/Lisboa/listings7.csv.gz',compression='gzip',low_memory=False)\n",
    "df_may18 = pd.read_csv('Data/Lisboa/listings8.csv.gz',compression='gzip',low_memory=False)\n",
    "df_abr18 = pd.read_csv('Data/Lisboa/listings9.csv.gz',compression='gzip',low_memory=False)"
   ]
  },
  {
   "cell_type": "code",
   "execution_count": 3,
   "metadata": {},
   "outputs": [],
   "source": [
    "files = [df_feb19,df_ene19,df_dic18,df_nov18,df_oct18,df_sep18,df_ago18,df_jul18,df_may18,df_abr18]\n",
    "\n",
    "df_Lisboa = pd.concat(files,sort=True)"
   ]
  },
  {
   "cell_type": "code",
   "execution_count": 4,
   "metadata": {},
   "outputs": [],
   "source": [
    "df_feb19 = pd.read_csv('Data/Madrid/listings0.csv.gz',compression='gzip',low_memory=False)\n",
    "df_ene19 = pd.read_csv('Data/Madrid/listings1.csv.gz',compression='gzip',low_memory=False)\n",
    "df_dic18 = pd.read_csv('Data/Madrid/listings2.csv.gz',compression='gzip',low_memory=False)\n",
    "df_nov18 = pd.read_csv('Data/Madrid/listings3.csv.gz',compression='gzip',low_memory=False)\n",
    "df_oct18 = pd.read_csv('Data/Madrid/listings4.csv.gz',compression='gzip',low_memory=False)\n",
    "df_sep18 = pd.read_csv('Data/Madrid/listings5.csv.gz',compression='gzip',low_memory=False)\n",
    "df_ago18 = pd.read_csv('Data/Madrid/listings6.csv.gz',compression='gzip',low_memory=False)\n",
    "df_jul18 = pd.read_csv('Data/Madrid/listings7.csv.gz',compression='gzip',low_memory=False)\n",
    "df_may18 = pd.read_csv('Data/Madrid/listings8.csv.gz',compression='gzip',low_memory=False)\n",
    "df_abr18 = pd.read_csv('Data/Madrid/listings9.csv.gz',compression='gzip',low_memory=False)\n",
    "df_ene18 = pd.read_csv('Data/Madrid/listings10.csv.gz',compression='gzip',low_memory=False)\n",
    "df_abr17 = pd.read_csv('Data/Madrid/listings11.csv.gz',compression='gzip',low_memory=False)\n",
    "df_mar17 = pd.read_csv('Data/Madrid/listings12.csv.gz',compression='gzip',low_memory=False)\n",
    "df_oct15 = pd.read_csv('Data/Madrid/listings13.csv.gz',compression='gzip',low_memory=False)\n",
    "df_sep15 = pd.read_csv('Data/Madrid/listings14.csv.gz',compression='gzip',low_memory=False)\n",
    "df_jul15 = pd.read_csv('Data/Madrid/listings15.csv.gz',compression='gzip',low_memory=False)"
   ]
  },
  {
   "cell_type": "code",
   "execution_count": 5,
   "metadata": {},
   "outputs": [],
   "source": [
    "files = [df_feb19,df_ene19,df_dic18,df_nov18,df_oct18,df_sep18,df_ago18,df_jul18,df_may18,df_abr18,df_ene18,df_abr17, df_mar17,df_oct15,df_sep15,df_jul15]\n",
    "\n",
    "df_Madrid = pd.concat(files, sort=True)"
   ]
  },
  {
   "cell_type": "code",
   "execution_count": 6,
   "metadata": {},
   "outputs": [
    {
     "data": {
      "text/html": [
       "<div>\n",
       "<style scoped>\n",
       "    .dataframe tbody tr th:only-of-type {\n",
       "        vertical-align: middle;\n",
       "    }\n",
       "\n",
       "    .dataframe tbody tr th {\n",
       "        vertical-align: top;\n",
       "    }\n",
       "\n",
       "    .dataframe thead th {\n",
       "        text-align: right;\n",
       "    }\n",
       "</style>\n",
       "<table border=\"1\" class=\"dataframe\">\n",
       "  <thead>\n",
       "    <tr style=\"text-align: right;\">\n",
       "      <th></th>\n",
       "      <th>access</th>\n",
       "      <th>accommodates</th>\n",
       "      <th>amenities</th>\n",
       "      <th>availability_30</th>\n",
       "      <th>availability_365</th>\n",
       "      <th>availability_60</th>\n",
       "      <th>availability_90</th>\n",
       "      <th>bathrooms</th>\n",
       "      <th>bed_type</th>\n",
       "      <th>bedrooms</th>\n",
       "      <th>...</th>\n",
       "      <th>space</th>\n",
       "      <th>square_feet</th>\n",
       "      <th>state</th>\n",
       "      <th>street</th>\n",
       "      <th>summary</th>\n",
       "      <th>thumbnail_url</th>\n",
       "      <th>transit</th>\n",
       "      <th>weekly_price</th>\n",
       "      <th>xl_picture_url</th>\n",
       "      <th>zipcode</th>\n",
       "    </tr>\n",
       "  </thead>\n",
       "  <tbody>\n",
       "    <tr>\n",
       "      <th>0</th>\n",
       "      <td>Full use of living room, kitchen (with dishwas...</td>\n",
       "      <td>2</td>\n",
       "      <td>{Wifi,\"Air conditioning\",Kitchen,Elevator,Heat...</td>\n",
       "      <td>30</td>\n",
       "      <td>83</td>\n",
       "      <td>53</td>\n",
       "      <td>83</td>\n",
       "      <td>1.0</td>\n",
       "      <td>Real Bed</td>\n",
       "      <td>1.0</td>\n",
       "      <td>...</td>\n",
       "      <td>BETTER THAN A HOTEL.Upscale neighboorhood (Met...</td>\n",
       "      <td>172.0</td>\n",
       "      <td>Comunidad de Madrid</td>\n",
       "      <td>Madrid, Comunidad de Madrid, Spain</td>\n",
       "      <td>Atico en la calle Principe de Vergara, con bañ...</td>\n",
       "      <td>NaN</td>\n",
       "      <td>Excelent public transport and easy Access to m...</td>\n",
       "      <td>$350.00</td>\n",
       "      <td>NaN</td>\n",
       "      <td>28016</td>\n",
       "    </tr>\n",
       "    <tr>\n",
       "      <th>1</th>\n",
       "      <td>There is fibre optic internet connection for y...</td>\n",
       "      <td>1</td>\n",
       "      <td>{TV,Internet,Wifi,\"Air conditioning\",Kitchen,\"...</td>\n",
       "      <td>0</td>\n",
       "      <td>0</td>\n",
       "      <td>0</td>\n",
       "      <td>0</td>\n",
       "      <td>1.0</td>\n",
       "      <td>Real Bed</td>\n",
       "      <td>1.0</td>\n",
       "      <td>...</td>\n",
       "      <td>I am living in a nice flat near the centre of ...</td>\n",
       "      <td>97.0</td>\n",
       "      <td>Madrid</td>\n",
       "      <td>Madrid, Madrid, Spain</td>\n",
       "      <td>We have a quiet and sunny room with a good vie...</td>\n",
       "      <td>NaN</td>\n",
       "      <td>The flat is near the centre of Madrid (15 minu...</td>\n",
       "      <td>$98.00</td>\n",
       "      <td>NaN</td>\n",
       "      <td>28047</td>\n",
       "    </tr>\n",
       "    <tr>\n",
       "      <th>2</th>\n",
       "      <td>La disponibilidad de acceso al apartamento es ...</td>\n",
       "      <td>4</td>\n",
       "      <td>{TV,\"Cable TV\",Internet,Wifi,\"Air conditioning...</td>\n",
       "      <td>18</td>\n",
       "      <td>317</td>\n",
       "      <td>35</td>\n",
       "      <td>56</td>\n",
       "      <td>1.0</td>\n",
       "      <td>Real Bed</td>\n",
       "      <td>2.0</td>\n",
       "      <td>...</td>\n",
       "      <td>Select the Madrid more \"cool\" : 70 m, 2 bedroo...</td>\n",
       "      <td>NaN</td>\n",
       "      <td>Comunidad de Madrid</td>\n",
       "      <td>Madrid, Comunidad de Madrid, Spain</td>\n",
       "      <td>Apartamento céntrico junto a Gran Vía (VT-296)...</td>\n",
       "      <td>NaN</td>\n",
       "      <td>La situación del apartamento hace accesibles a...</td>\n",
       "      <td>$600.00</td>\n",
       "      <td>NaN</td>\n",
       "      <td>28004</td>\n",
       "    </tr>\n",
       "    <tr>\n",
       "      <th>3</th>\n",
       "      <td>NaN</td>\n",
       "      <td>2</td>\n",
       "      <td>{Internet,Wifi,\"Wheelchair accessible\",Doorman...</td>\n",
       "      <td>29</td>\n",
       "      <td>364</td>\n",
       "      <td>59</td>\n",
       "      <td>89</td>\n",
       "      <td>1.0</td>\n",
       "      <td>Real Bed</td>\n",
       "      <td>1.0</td>\n",
       "      <td>...</td>\n",
       "      <td>Room for two person with dressing room and bat...</td>\n",
       "      <td>NaN</td>\n",
       "      <td>Comunidad de Madrid</td>\n",
       "      <td>Madrid, Comunidad de Madrid, Spain</td>\n",
       "      <td>NaN</td>\n",
       "      <td>NaN</td>\n",
       "      <td>NaN</td>\n",
       "      <td>NaN</td>\n",
       "      <td>NaN</td>\n",
       "      <td>28045</td>\n",
       "    </tr>\n",
       "    <tr>\n",
       "      <th>4</th>\n",
       "      <td>– Smoking is prohibited in rooms and public ar...</td>\n",
       "      <td>1</td>\n",
       "      <td>{Wifi,\"Wheelchair accessible\",Doorman,Elevator...</td>\n",
       "      <td>2</td>\n",
       "      <td>329</td>\n",
       "      <td>31</td>\n",
       "      <td>61</td>\n",
       "      <td>1.0</td>\n",
       "      <td>Real Bed</td>\n",
       "      <td>1.0</td>\n",
       "      <td>...</td>\n",
       "      <td>Nice and cozy roon for one person with a priva...</td>\n",
       "      <td>NaN</td>\n",
       "      <td>Comunidad de Madrid</td>\n",
       "      <td>Madrid, Comunidad de Madrid, Spain</td>\n",
       "      <td>Nice and cozy roon for one person with a priva...</td>\n",
       "      <td>NaN</td>\n",
       "      <td>Muy bien comunicado con dos Metros a cinco min...</td>\n",
       "      <td>NaN</td>\n",
       "      <td>NaN</td>\n",
       "      <td>28045</td>\n",
       "    </tr>\n",
       "  </tbody>\n",
       "</table>\n",
       "<p>5 rows × 106 columns</p>\n",
       "</div>"
      ],
      "text/plain": [
       "                                              access  accommodates  \\\n",
       "0  Full use of living room, kitchen (with dishwas...             2   \n",
       "1  There is fibre optic internet connection for y...             1   \n",
       "2  La disponibilidad de acceso al apartamento es ...             4   \n",
       "3                                                NaN             2   \n",
       "4  – Smoking is prohibited in rooms and public ar...             1   \n",
       "\n",
       "                                           amenities  availability_30  \\\n",
       "0  {Wifi,\"Air conditioning\",Kitchen,Elevator,Heat...               30   \n",
       "1  {TV,Internet,Wifi,\"Air conditioning\",Kitchen,\"...                0   \n",
       "2  {TV,\"Cable TV\",Internet,Wifi,\"Air conditioning...               18   \n",
       "3  {Internet,Wifi,\"Wheelchair accessible\",Doorman...               29   \n",
       "4  {Wifi,\"Wheelchair accessible\",Doorman,Elevator...                2   \n",
       "\n",
       "   availability_365  availability_60  availability_90  bathrooms  bed_type  \\\n",
       "0                83               53               83        1.0  Real Bed   \n",
       "1                 0                0                0        1.0  Real Bed   \n",
       "2               317               35               56        1.0  Real Bed   \n",
       "3               364               59               89        1.0  Real Bed   \n",
       "4               329               31               61        1.0  Real Bed   \n",
       "\n",
       "   bedrooms   ...                                                space  \\\n",
       "0       1.0   ...    BETTER THAN A HOTEL.Upscale neighboorhood (Met...   \n",
       "1       1.0   ...    I am living in a nice flat near the centre of ...   \n",
       "2       2.0   ...    Select the Madrid more \"cool\" : 70 m, 2 bedroo...   \n",
       "3       1.0   ...    Room for two person with dressing room and bat...   \n",
       "4       1.0   ...    Nice and cozy roon for one person with a priva...   \n",
       "\n",
       "   square_feet                state                              street  \\\n",
       "0        172.0  Comunidad de Madrid  Madrid, Comunidad de Madrid, Spain   \n",
       "1         97.0               Madrid               Madrid, Madrid, Spain   \n",
       "2          NaN  Comunidad de Madrid  Madrid, Comunidad de Madrid, Spain   \n",
       "3          NaN  Comunidad de Madrid  Madrid, Comunidad de Madrid, Spain   \n",
       "4          NaN  Comunidad de Madrid  Madrid, Comunidad de Madrid, Spain   \n",
       "\n",
       "                                             summary thumbnail_url  \\\n",
       "0  Atico en la calle Principe de Vergara, con bañ...           NaN   \n",
       "1  We have a quiet and sunny room with a good vie...           NaN   \n",
       "2  Apartamento céntrico junto a Gran Vía (VT-296)...           NaN   \n",
       "3                                                NaN           NaN   \n",
       "4  Nice and cozy roon for one person with a priva...           NaN   \n",
       "\n",
       "                                             transit weekly_price  \\\n",
       "0  Excelent public transport and easy Access to m...      $350.00   \n",
       "1  The flat is near the centre of Madrid (15 minu...       $98.00   \n",
       "2  La situación del apartamento hace accesibles a...      $600.00   \n",
       "3                                                NaN          NaN   \n",
       "4  Muy bien comunicado con dos Metros a cinco min...          NaN   \n",
       "\n",
       "  xl_picture_url zipcode  \n",
       "0            NaN   28016  \n",
       "1            NaN   28047  \n",
       "2            NaN   28004  \n",
       "3            NaN   28045  \n",
       "4            NaN   28045  \n",
       "\n",
       "[5 rows x 106 columns]"
      ]
     },
     "execution_count": 6,
     "metadata": {},
     "output_type": "execute_result"
    }
   ],
   "source": [
    "#Todas las columnas están en minúsculas y no hay espacios\n",
    "df_Madrid.head()"
   ]
  },
  {
   "cell_type": "code",
   "execution_count": 7,
   "metadata": {},
   "outputs": [],
   "source": [
    "#Cambiamos todos los campos sin formatear de ambas ciudades por su nombre\n",
    "df_Madrid.city = \"Madrid\"\n",
    "df_Lisboa.city = \"Lisboa\""
   ]
  },
  {
   "cell_type": "code",
   "execution_count": 8,
   "metadata": {},
   "outputs": [
    {
     "data": {
      "text/plain": [
       "Madrid    242137\n",
       "Name: city, dtype: int64"
      ]
     },
     "execution_count": 8,
     "metadata": {},
     "output_type": "execute_result"
    }
   ],
   "source": [
    "df_Madrid.city.value_counts()"
   ]
  },
  {
   "cell_type": "code",
   "execution_count": 9,
   "metadata": {},
   "outputs": [
    {
     "data": {
      "text/plain": [
       "Lisboa    220101\n",
       "Name: city, dtype: int64"
      ]
     },
     "execution_count": 9,
     "metadata": {},
     "output_type": "execute_result"
    }
   ],
   "source": [
    "df_Lisboa.city.value_counts()"
   ]
  },
  {
   "cell_type": "code",
   "execution_count": 10,
   "metadata": {},
   "outputs": [],
   "source": [
    "df = pd.concat([df_Lisboa,df_Madrid],sort=True)"
   ]
  },
  {
   "cell_type": "code",
   "execution_count": 11,
   "metadata": {
    "scrolled": false
   },
   "outputs": [
    {
     "data": {
      "text/plain": [
       "(462238, 106)"
      ]
     },
     "execution_count": 11,
     "metadata": {},
     "output_type": "execute_result"
    }
   ],
   "source": [
    "#vemos la estructura de los datos \n",
    "df.shape"
   ]
  },
  {
   "cell_type": "markdown",
   "metadata": {},
   "source": [
    "El **primer criterio** utilizado para simplificar la información contenida en la tabla es el de encontrar \n",
    "aquellas columnas prescindibles."
   ]
  },
  {
   "cell_type": "code",
   "execution_count": 12,
   "metadata": {},
   "outputs": [],
   "source": [
    "#Comprobamos chequeando la URL que significa cada columna y eliminamos las que son solo de consulta, \n",
    "\n",
    "a_borrar_consulta = ['listing_url','host_url']\n",
    "\n",
    "#campos de texto sin relevancia, variables redundantes o URL`s que no nos sirven para el análisis. \n",
    "#Normalmente los campos de texto no vienen predeterminados por AirBnb y por tanto no tienen formato establecido.\n",
    "\n",
    "a_borrar_texto = ['summary','space','neighborhood_overview','notes'\n",
    "                     ,'transit','access','interaction','house_rules','host_name']\n",
    "a_borrar_redundantes = ['scrape_id','calendar_last_scraped','jurisdiction_names','country'\n",
    "                        ,'country_code','street','market','smart_location','host_location','zipcode','state'\n",
    "                       ,'neighbourhood']\n",
    "a_borrar_urls = ['thumbnail_url','picture_url','medium_url','xl_picture_url','host_thumbnail_url',\n",
    "                 'host_picture_url','host_url','listing_url']\n",
    "\n",
    "#Las siguientes columnas son eliminadas por el desconocimiento del método de cálculo o por no comprender que significan\n",
    "\n",
    "a_borrar_desconocidas = ['is_location_exact','maximum_maximum_nights','maximum_minimum_nights','minimum_minimum_nights'\n",
    "                        ,'minimum_maximum_nights','is_business_travel_ready',\n",
    "                         'host_verifications','host_identity_verified']\n",
    "#Las siguientes hacen referencia al método de scrapping o están condicionadas por el momento concreto en el que se hizo\n",
    "\n",
    "a_borrar_scrapping = ['maximum_nights','minimum_nights','calendar_updated','has_availability']\n",
    "\n",
    "#Por último, estos requerimientos no son necesarios:\n",
    "\n",
    "a_borrar_irrelevantes = ['require_guest_profile_picture','require_guest_phone_verification','experiences_offered'\n",
    "                         ,'host_has_profile_pic']"
   ]
  },
  {
   "cell_type": "code",
   "execution_count": 13,
   "metadata": {},
   "outputs": [
    {
     "data": {
      "text/plain": [
       "(462238, 61)"
      ]
     },
     "execution_count": 13,
     "metadata": {},
     "output_type": "execute_result"
    }
   ],
   "source": [
    "#Juntamos todas las columnas, las eliminamos y comprobamos cuánto se han reducido\n",
    "Useless = a_borrar_texto+a_borrar_redundantes+a_borrar_urls+a_borrar_desconocidas+a_borrar_scrapping+a_borrar_irrelevantes\n",
    "df.drop(Useless,axis=1,inplace=True)\n",
    "df.shape\n"
   ]
  },
  {
   "cell_type": "markdown",
   "metadata": {},
   "source": [
    "El **segundo criterio** para reducir las dimensiones es eliminar aquellas columnas que contengan al menos un 30% \n",
    "de nulos, ya que no serán útiles con tanta información perdida.\n"
   ]
  },
  {
   "cell_type": "code",
   "execution_count": 14,
   "metadata": {
    "scrolled": true
   },
   "outputs": [
    {
     "data": {
      "image/png": "[encoded data removed]",
      "text/plain": [
       "<Figure size 1584x504 with 1 Axes>"
      ]
     },
     "metadata": {
      "needs_background": "light"
     },
     "output_type": "display_data"
    }
   ],
   "source": [
    "#Representamos gráficamente el % de nulos de las columnas restantes\n",
    "missing = df.isnull().sum()/df.shape[0]\n",
    "ax = missing.plot(kind='bar',figsize=(22,7))\n",
    "ax.set_xlabel('columnas',fontsize=18)\n",
    "ax.set_ylabel('% datos que faltan',fontsize=18)\n",
    "ax.set_title('Selección de columnas',fontsize=22)\n",
    "plt.show()\n"
   ]
  },
  {
   "cell_type": "code",
   "execution_count": 15,
   "metadata": {
    "scrolled": true
   },
   "outputs": [
    {
     "data": {
      "text/plain": [
       "['calculated_host_listings_count_entire_homes',\n",
       " 'calculated_host_listings_count_private_rooms',\n",
       " 'calculated_host_listings_count_shared_rooms',\n",
       " 'host_about',\n",
       " 'host_acceptance_rate',\n",
       " 'monthly_price',\n",
       " 'security_deposit',\n",
       " 'square_feet',\n",
       " 'weekly_price']"
      ]
     },
     "execution_count": 15,
     "metadata": {},
     "output_type": "execute_result"
    }
   ],
   "source": [
    "nulos = missing.loc[missing > 0.3].index\n",
    "\n",
    "nulos_lista = list(nulos)\n",
    "#Dejamos las siguientes columnas aunque tengan muchos nulos ya que pueden ser importantes para los periodos que están disponibles\n",
    "nulos_lista.remove('license')\n",
    "nulos_lista.remove('maximum_nights_avg_ntm')\n",
    "nulos_lista.remove('minimum_nights_avg_ntm')\n",
    "nulos_lista.remove('number_of_reviews_ltm')\n",
    "nulos_lista.remove('host_neighbourhood')\n",
    "nulos_lista"
   ]
  },
  {
   "cell_type": "code",
   "execution_count": 16,
   "metadata": {},
   "outputs": [
    {
     "data": {
      "text/plain": [
       "(462238, 52)"
      ]
     },
     "execution_count": 16,
     "metadata": {},
     "output_type": "execute_result"
    }
   ],
   "source": [
    "#Tenemos 52 columnas para realizar el análisis, pudiendo ser reducidas en el futuro en caso de ser considerado.\n",
    "df.drop(nulos_lista, axis = 1, inplace = True)\n",
    "df.shape"
   ]
  },
  {
   "cell_type": "code",
   "execution_count": 17,
   "metadata": {},
   "outputs": [
    {
     "data": {
      "text/plain": [
       "Index(['accommodates', 'amenities', 'availability_30', 'availability_365',\n",
       "       'availability_60', 'availability_90', 'bathrooms', 'bed_type',\n",
       "       'bedrooms', 'beds', 'calculated_host_listings_count',\n",
       "       'cancellation_policy', 'city', 'cleaning_fee', 'description',\n",
       "       'extra_people', 'first_review', 'guests_included', 'host_id',\n",
       "       'host_is_superhost', 'host_listings_count', 'host_neighbourhood',\n",
       "       'host_response_rate', 'host_response_time', 'host_since',\n",
       "       'host_total_listings_count', 'id', 'instant_bookable', 'last_review',\n",
       "       'last_scraped', 'latitude', 'license', 'longitude',\n",
       "       'maximum_nights_avg_ntm', 'minimum_nights_avg_ntm', 'name',\n",
       "       'neighbourhood_cleansed', 'neighbourhood_group_cleansed',\n",
       "       'number_of_reviews', 'number_of_reviews_ltm', 'price', 'property_type',\n",
       "       'requires_license', 'review_scores_accuracy', 'review_scores_checkin',\n",
       "       'review_scores_cleanliness', 'review_scores_communication',\n",
       "       'review_scores_location', 'review_scores_rating', 'review_scores_value',\n",
       "       'reviews_per_month', 'room_type'],\n",
       "      dtype='object')"
      ]
     },
     "execution_count": 17,
     "metadata": {},
     "output_type": "execute_result"
    }
   ],
   "source": [
    "#Comprobamos las columnas restantes\n",
    "df.columns"
   ]
  },
  {
   "cell_type": "code",
   "execution_count": 18,
   "metadata": {
    "scrolled": true
   },
   "outputs": [
    {
     "data": {
      "text/plain": [
       "dtype('O')"
      ]
     },
     "execution_count": 18,
     "metadata": {},
     "output_type": "execute_result"
    }
   ],
   "source": [
    "#Pasamos las fechas de formato texto a fecha\n",
    "df.host_since = pd.to_datetime(df.host_since)\n",
    "df.first_review = pd.to_datetime(df.first_review)\n",
    "df.last_review = pd.to_datetime(df.last_review)\n",
    "df.last_scraped.dtype"
   ]
  },
  {
   "cell_type": "code",
   "execution_count": null,
   "metadata": {},
   "outputs": [],
   "source": [
    "#Pasamos last scraped a mes y año como texto porque la vamos a usar como referencia para cruzar valores de host id y property id\n",
    "df.last_scraped=pd.to_datetime(df.last_scraped).dt.to_period('m')"
   ]
  },
  {
   "cell_type": "code",
   "execution_count": null,
   "metadata": {},
   "outputs": [
    {
     "data": {
      "text/plain": [
       "2018-08    41254\n",
       "2018-07    40756\n",
       "2018-12    40484\n",
       "2018-09    40362\n",
       "2019-02    40181\n",
       "2019-01    40079\n",
       "2018-11    39543\n",
       "2018-10    39426\n",
       "2018-05    37824\n",
       "2018-04    36897\n",
       "2018-01    16313\n",
       "2017-04    13335\n",
       "2017-03    12775\n",
       "2015-07     7799\n",
       "2015-09     7764\n",
       "2015-10     7446\n",
       "Freq: M, Name: last_scraped, dtype: int64"
      ]
     },
     "execution_count": 20,
     "metadata": {},
     "output_type": "execute_result"
    }
   ],
   "source": [
    "df.last_scraped.value_counts()"
   ]
  },
  {
   "cell_type": "code",
   "execution_count": null,
   "metadata": {},
   "outputs": [],
   "source": [
    "#Reemplazamos valores [t,f] por [True, False]\n",
    "\n",
    "df.host_is_superhost = df.host_is_superhost.str.replace(\"f\",\"0\")\n",
    "df.host_is_superhost = df.host_is_superhost.str.replace(\"t\",\"1\")"
   ]
  },
  {
   "cell_type": "code",
   "execution_count": null,
   "metadata": {},
   "outputs": [],
   "source": [
    "df.requires_license = df.requires_license.str.replace(\"f\",\"0\")\n",
    "df.requires_license = df.requires_license.str.replace(\"t\",\"1\")"
   ]
  },
  {
   "cell_type": "code",
   "execution_count": null,
   "metadata": {},
   "outputs": [],
   "source": [
    "df.instant_bookable = df.instant_bookable.str.replace(\"f\",\"0\")\n",
    "df.instant_bookable = df.instant_bookable.str.replace(\"t\",\"1\")"
   ]
  },
  {
   "cell_type": "code",
   "execution_count": null,
   "metadata": {},
   "outputs": [],
   "source": [
    "#df.requires_license = df.requires_license.astype('int64',errors='ignore')\n",
    "#df.insant_bookable = df.instant_bookable.astype('int64',errors='ignore')"
   ]
  },
  {
   "cell_type": "markdown",
   "metadata": {},
   "source": [
    "### Las políticas de cancelación del AirBnb son las siguientes:\n",
    "\n",
    "* Flexible: Si la cancelación se hace con al menos 24h de antelación el huésped tiene derecho a una devolución completa.  Si es con menos de 24h la primera noche no será reembolsada, siendo el resto de los días reembolsados.\n",
    "\n",
    "* Moderate: La cancelación se debe hacer o bien 48h después de la reserva o 5 días antes de la llegada para obtener reembolso completo.  Si se cancela con menos de 5 días de antelación se reembolsará el *50%* de las noches sin contar la primera.\n",
    "\n",
    "* Strict_14_with_grace_period: La cancelación se debe hacer o bien 48h después de la reserva o *14* días antes de la llegada para obtener reembolso completo.  Para obtener el 50% del reembolso se debe cancelar con al menos 7 dias completos antes del día y hora local.  Con menos de 7 dias no hay reembolso.\n",
    "\n",
    "* Super_strict_30: Si la cancelación se produce con al menos 30 días se reembolsa el 50%.\n",
    "\n",
    "* Super_strict_60: Si la cancelación se produce con al menos 60 días se reembolsa el 50%.\n",
    "\n",
    "* Long_term: Se aplica a huéspedes que están 28 días o más. El primer mes lo cobra el host sea cual sea la cancelación."
   ]
  },
  {
   "cell_type": "code",
   "execution_count": null,
   "metadata": {
    "scrolled": true
   },
   "outputs": [
    {
     "data": {
      "text/plain": [
       "strict_14_with_grace_period    151624\n",
       "moderate                       147855\n",
       "flexible                       123127\n",
       "strict                          36263\n",
       "super_strict_30                  2316\n",
       "super_strict_60                  1052\n",
       "flexible_new                        1\n",
       "Name: cancellation_policy, dtype: int64"
      ]
     },
     "execution_count": 25,
     "metadata": {},
     "output_type": "execute_result"
    }
   ],
   "source": [
    "#Comprobamos que strict_14_with_grace_period y strict se refiere a lo mismo \n",
    "df.cancellation_policy.value_counts()"
   ]
  },
  {
   "cell_type": "code",
   "execution_count": null,
   "metadata": {},
   "outputs": [],
   "source": [
    "#Eliminamos un valor raro cuya política no aparece en AirBnb\n",
    "df = df[df.cancellation_policy != \"flexible_new\"]"
   ]
  },
  {
   "cell_type": "code",
   "execution_count": null,
   "metadata": {},
   "outputs": [
    {
     "data": {
      "text/plain": [
       "strict             187887\n",
       "moderate           147855\n",
       "flexible           123127\n",
       "super_strict_30      2316\n",
       "super_strict_60      1052\n",
       "Name: cancellation_policy, dtype: int64"
      ]
     },
     "execution_count": 27,
     "metadata": {},
     "output_type": "execute_result"
    }
   ],
   "source": [
    "#Por tanto igualamos los nombres al formato que tiene AirBnb en su web\n",
    "df.cancellation_policy = df.cancellation_policy.str.replace(\"strict_14_with_grace_period\",\"strict\")\n",
    "df.cancellation_policy.value_counts()"
   ]
  },
  {
   "cell_type": "code",
   "execution_count": null,
   "metadata": {},
   "outputs": [
    {
     "data": {
      "text/plain": [
       "Entire home/apt    315178\n",
       "Private room       140371\n",
       "Shared room          6688\n",
       "Name: room_type, dtype: int64"
      ]
     },
     "execution_count": 28,
     "metadata": {},
     "output_type": "execute_result"
    }
   ],
   "source": [
    "#La columna room type también es categórica \n",
    "df.room_type.value_counts()"
   ]
  },
  {
   "cell_type": "code",
   "execution_count": null,
   "metadata": {},
   "outputs": [],
   "source": [
    "#Pasamos a categórica con cinco y tres niveles respectivamente\n",
    "df.cancellation_policy = pd.Categorical(df.cancellation_policy, ['flexible','moderate'\n",
    "                                                                         ,'strict',\n",
    "                                                                        'super_strict_30',\n",
    "                                                                         'super_strict_60'],ordered=True)\n",
    "\n",
    "df.room_type = pd.Categorical(df.room_type, ['Entire home/apt','Private room','Shared room'],ordered=True)\n"
   ]
  },
  {
   "cell_type": "code",
   "execution_count": null,
   "metadata": {
    "scrolled": true
   },
   "outputs": [
    {
     "data": {
      "text/plain": [
       "Index(['accommodates', 'amenities', 'availability_30', 'availability_365',\n",
       "       'availability_60', 'availability_90', 'bathrooms', 'bed_type',\n",
       "       'bedrooms', 'beds', 'calculated_host_listings_count',\n",
       "       'cancellation_policy', 'city', 'cleaning_fee', 'description',\n",
       "       'extra_people', 'first_review', 'guests_included', 'host_id',\n",
       "       'host_is_superhost', 'host_listings_count', 'host_neighbourhood',\n",
       "       'host_response_rate', 'host_response_time', 'host_since',\n",
       "       'host_total_listings_count', 'id', 'instant_bookable', 'last_review',\n",
       "       'last_scraped', 'latitude', 'license', 'longitude',\n",
       "       'maximum_nights_avg_ntm', 'minimum_nights_avg_ntm', 'name',\n",
       "       'neighbourhood_cleansed', 'neighbourhood_group_cleansed',\n",
       "       'number_of_reviews', 'number_of_reviews_ltm', 'price', 'property_type',\n",
       "       'requires_license', 'review_scores_accuracy', 'review_scores_checkin',\n",
       "       'review_scores_cleanliness', 'review_scores_communication',\n",
       "       'review_scores_location', 'review_scores_rating', 'review_scores_value',\n",
       "       'reviews_per_month', 'room_type'],\n",
       "      dtype='object')"
      ]
     },
     "execution_count": 30,
     "metadata": {},
     "output_type": "execute_result"
    }
   ],
   "source": [
    "#Comprobamos las columnas restantes\n",
    "df.columns"
   ]
  },
  {
   "cell_type": "code",
   "execution_count": null,
   "metadata": {},
   "outputs": [
    {
     "data": {
      "text/plain": [
       "dtype('float64')"
      ]
     },
     "execution_count": 31,
     "metadata": {},
     "output_type": "execute_result"
    }
   ],
   "source": [
    "#host listings count - está como float y tiene que estar como integer\n",
    "df.host_listings_count = df.host_listings_count.astype('int64',errors = 'ignore')\n",
    "df.host_listings_count.dtype\n",
    "#Sin embargo, el resultado de esta columna sigue siendo float ya que en Python, NaN son tomados como float."
   ]
  },
  {
   "cell_type": "code",
   "execution_count": null,
   "metadata": {},
   "outputs": [],
   "source": [
    "#host response rate - está como object y tiene que estar como float (?) es un porcentaje\n",
    "df.host_response_rate = df.host_response_rate.str.replace(\"%\",\"\").astype(\"float64\")/100\n"
   ]
  },
  {
   "cell_type": "code",
   "execution_count": null,
   "metadata": {},
   "outputs": [
    {
     "data": {
      "text/plain": [
       "CategoricalDtype(categories=['within an hour', 'within a few hours', 'within a day',\n",
       "                  'a few days or more'],\n",
       "                 ordered=True)"
      ]
     },
     "execution_count": 33,
     "metadata": {},
     "output_type": "execute_result"
    }
   ],
   "source": [
    "#host response time - está como object y tiene que estar como float (?) es tiempo\n",
    "df.host_response_time = pd.Categorical(df.host_response_time, ['within an hour','within a few hours',\n",
    "                                                              'within a day','a few days or more'],ordered=True)\n",
    "df.host_response_time.dtype"
   ]
  },
  {
   "cell_type": "code",
   "execution_count": null,
   "metadata": {},
   "outputs": [],
   "source": [
    "#host total listings count - está como float y tiene que estar como integer.  Por el mismo motivo que arriba, al tener nulos se queda como float\n"
   ]
  },
  {
   "cell_type": "code",
   "execution_count": null,
   "metadata": {},
   "outputs": [
    {
     "data": {
      "text/plain": [
       "295"
      ]
     },
     "execution_count": 35,
     "metadata": {},
     "output_type": "execute_result"
    }
   ],
   "source": [
    "#bedrooms - está en float y tiene que ser integer. Idem\n",
    "sum(df.bedrooms.isnull())"
   ]
  },
  {
   "cell_type": "code",
   "execution_count": null,
   "metadata": {},
   "outputs": [
    {
     "data": {
      "text/plain": [
       "dtype('float64')"
      ]
     },
     "execution_count": 36,
     "metadata": {},
     "output_type": "execute_result"
    }
   ],
   "source": [
    "#price - está como object y tiene que ser float\n",
    "df.price = df.price.str.replace(\"$\",\"\")\n",
    "df.price = df.price.str.replace(\",\",\"\")\n",
    "df.price = df.price.astype(\"float64\")\n",
    "df.price.dtype"
   ]
  },
  {
   "cell_type": "code",
   "execution_count": null,
   "metadata": {},
   "outputs": [],
   "source": [
    "#cleaning fee - está como object y tiene que ser float\n",
    "df.cleaning_fee = df.cleaning_fee.str.replace(\"$\",\"\")\n",
    "df.cleaning_fee = df.cleaning_fee.str.replace(\",\",\"\")\n"
   ]
  },
  {
   "cell_type": "code",
   "execution_count": null,
   "metadata": {},
   "outputs": [
    {
     "data": {
      "text/plain": [
       "dtype('float64')"
      ]
     },
     "execution_count": 38,
     "metadata": {},
     "output_type": "execute_result"
    }
   ],
   "source": [
    "df.cleaning_fee = df.cleaning_fee.astype(\"float64\")\n",
    "df.cleaning_fee.dtype"
   ]
  },
  {
   "cell_type": "code",
   "execution_count": null,
   "metadata": {},
   "outputs": [],
   "source": [
    "#Pasamos extra people a float\n",
    "df.extra_people = df.extra_people.str.replace(\"$\",\"\")\n",
    "df.extra_people = df.extra_people.str.replace(\",\",\"\")\n"
   ]
  },
  {
   "cell_type": "code",
   "execution_count": null,
   "metadata": {
    "scrolled": true
   },
   "outputs": [
    {
     "data": {
      "text/plain": [
       "dtype('float64')"
      ]
     },
     "execution_count": 40,
     "metadata": {},
     "output_type": "execute_result"
    }
   ],
   "source": [
    "df.extra_people = df.extra_people.astype(\"float64\")\n",
    "df.extra_people.dtype"
   ]
  },
  {
   "cell_type": "code",
   "execution_count": null,
   "metadata": {},
   "outputs": [
    {
     "data": {
      "text/plain": [
       "0        NaN\n",
       "1       1.00\n",
       "2       1.00\n",
       "3        NaN\n",
       "4        NaN\n",
       "5       1.00\n",
       "6       1.00\n",
       "7       1.00\n",
       "8        NaN\n",
       "9       1.00\n",
       "10      1.00\n",
       "11      1.00\n",
       "12      1.00\n",
       "13      1.00\n",
       "14       NaN\n",
       "15      1.00\n",
       "16      0.67\n",
       "17       NaN\n",
       "18       NaN\n",
       "19       NaN\n",
       "20      1.00\n",
       "21      1.00\n",
       "22      1.00\n",
       "23       NaN\n",
       "24       NaN\n",
       "25      0.94\n",
       "26      0.95\n",
       "27      0.94\n",
       "28      1.00\n",
       "29      1.00\n",
       "        ... \n",
       "7769     NaN\n",
       "7770     NaN\n",
       "7771     NaN\n",
       "7772    1.00\n",
       "7773    1.00\n",
       "7774    1.00\n",
       "7775    0.92\n",
       "7776    0.98\n",
       "7777    1.00\n",
       "7778    1.00\n",
       "7779    1.00\n",
       "7780    0.57\n",
       "7781    0.75\n",
       "7782    1.00\n",
       "7783    1.00\n",
       "7784    1.00\n",
       "7785     NaN\n",
       "7786    1.00\n",
       "7787    1.00\n",
       "7788    1.00\n",
       "7789    1.00\n",
       "7790    1.00\n",
       "7791    1.00\n",
       "7792    1.00\n",
       "7793    0.67\n",
       "7794    1.00\n",
       "7795    1.00\n",
       "7796     NaN\n",
       "7797    1.00\n",
       "7798     NaN\n",
       "Name: host_response_rate, Length: 462237, dtype: float64"
      ]
     },
     "execution_count": 41,
     "metadata": {},
     "output_type": "execute_result"
    }
   ],
   "source": [
    "df.host_response_rate"
   ]
  },
  {
   "cell_type": "code",
   "execution_count": null,
   "metadata": {},
   "outputs": [
    {
     "data": {
      "text/plain": [
       "dtype('float64')"
      ]
     },
     "execution_count": 42,
     "metadata": {},
     "output_type": "execute_result"
    }
   ],
   "source": [
    "df.host_response_rate = df.host_response_rate.astype(\"float64\")\n",
    "df.host_response_rate.dtype"
   ]
  },
  {
   "cell_type": "code",
   "execution_count": null,
   "metadata": {},
   "outputs": [],
   "source": [
    "df.host_response_rate = df.host_response_rate/100"
   ]
  },
  {
   "cell_type": "code",
   "execution_count": null,
   "metadata": {},
   "outputs": [
    {
     "data": {
      "text/plain": [
       "1    262717\n",
       "0    199520\n",
       "Name: instant_bookable, dtype: int64"
      ]
     },
     "execution_count": 44,
     "metadata": {},
     "output_type": "execute_result"
    }
   ],
   "source": [
    "df.instant_bookable.value_counts()"
   ]
  },
  {
   "cell_type": "code",
   "execution_count": null,
   "metadata": {},
   "outputs": [],
   "source": []
  },
  {
   "cell_type": "code",
   "execution_count": null,
   "metadata": {},
   "outputs": [
    {
     "data": {
      "text/plain": [
       "accommodates                               int64\n",
       "amenities                                 object\n",
       "availability_30                            int64\n",
       "availability_365                           int64\n",
       "availability_60                            int64\n",
       "availability_90                            int64\n",
       "bathrooms                                float64\n",
       "bed_type                                  object\n",
       "bedrooms                                 float64\n",
       "beds                                     float64\n",
       "calculated_host_listings_count             int64\n",
       "cancellation_policy                     category\n",
       "city                                      object\n",
       "cleaning_fee                             float64\n",
       "description                               object\n",
       "extra_people                             float64\n",
       "first_review                      datetime64[ns]\n",
       "guests_included                            int64\n",
       "host_id                                    int64\n",
       "host_is_superhost                         object\n",
       "host_listings_count                      float64\n",
       "host_neighbourhood                        object\n",
       "host_response_rate                       float64\n",
       "host_response_time                      category\n",
       "host_since                        datetime64[ns]\n",
       "host_total_listings_count                float64\n",
       "id                                         int64\n",
       "instant_bookable                          object\n",
       "last_review                       datetime64[ns]\n",
       "last_scraped                              object\n",
       "latitude                                 float64\n",
       "license                                   object\n",
       "longitude                                float64\n",
       "maximum_nights_avg_ntm                   float64\n",
       "minimum_nights_avg_ntm                   float64\n",
       "name                                      object\n",
       "neighbourhood_cleansed                    object\n",
       "neighbourhood_group_cleansed              object\n",
       "number_of_reviews                          int64\n",
       "number_of_reviews_ltm                    float64\n",
       "price                                    float64\n",
       "property_type                             object\n",
       "requires_license                          object\n",
       "review_scores_accuracy                   float64\n",
       "review_scores_checkin                    float64\n",
       "review_scores_cleanliness                float64\n",
       "review_scores_communication              float64\n",
       "review_scores_location                   float64\n",
       "review_scores_rating                     float64\n",
       "review_scores_value                      float64\n",
       "reviews_per_month                        float64\n",
       "room_type                               category\n",
       "dtype: object"
      ]
     },
     "execution_count": 45,
     "metadata": {},
     "output_type": "execute_result"
    }
   ],
   "source": [
    "df.dtypes"
   ]
  },
  {
   "cell_type": "markdown",
   "metadata": {},
   "source": [
    "Sustituímos las comillas en las columnas description y name, ya que dan problemas al pasarlas a SQL."
   ]
  },
  {
   "cell_type": "code",
   "execution_count": null,
   "metadata": {},
   "outputs": [],
   "source": [
    "df.description = df.description.str.replace(\"\\\"\",\"\")\n",
    "df.description = df.description.str.replace(\"\\'\",\"\")\n",
    "df.description = df.description.str.replace(\"-\",\" \")\n",
    "df.description = df.description.str.replace(\"\\\"\",\" \")                                "
   ]
  },
  {
   "cell_type": "code",
   "execution_count": null,
   "metadata": {},
   "outputs": [],
   "source": [
    "df.name = df.name.str.replace(\"\\\"\",\"\")\n",
    "df.name = df.name.str.replace(\"\\'\",\"\")\n",
    "df.name = df.name.str.replace(\"-\",\" \")\n",
    "df.name = df.name.str.replace(\"\\\"\",\" \")"
   ]
  },
  {
   "cell_type": "markdown",
   "metadata": {},
   "source": [
    "Creamos las tablas para importarlas en la base de datos"
   ]
  },
  {
   "cell_type": "markdown",
   "metadata": {},
   "source": [
    "### Tabla **host**"
   ]
  },
  {
   "cell_type": "code",
   "execution_count": null,
   "metadata": {},
   "outputs": [
    {
     "data": {
      "text/plain": [
       "33912"
      ]
     },
     "execution_count": 48,
     "metadata": {},
     "output_type": "execute_result"
    }
   ],
   "source": [
    "# Comprobamos el numero de ids unicos de host\n",
    "df.host_id.nunique()"
   ]
  },
  {
   "cell_type": "code",
   "execution_count": null,
   "metadata": {
    "scrolled": true
   },
   "outputs": [
    {
     "data": {
      "text/plain": [
       "33912"
      ]
     },
     "execution_count": 49,
     "metadata": {},
     "output_type": "execute_result"
    }
   ],
   "source": [
    "# Creamos la tabla con los campos necesarios, agrupando por host id\n",
    "tabla_host = df[[\"host_id\",\"host_since\"]]\n",
    "tabla_host = pd.DataFrame(tabla_host)\n",
    "tabla_host = tabla_host.groupby('host_id').max()\n",
    "tabla_host.head()\n",
    "len(tabla_host)"
   ]
  },
  {
   "cell_type": "code",
   "execution_count": null,
   "metadata": {},
   "outputs": [],
   "source": [
    "# Descargamos el csv\n",
    "tabla_host.to_csv(\"Tabla_host.csv\",sep=\",\")"
   ]
  },
  {
   "cell_type": "markdown",
   "metadata": {},
   "source": [
    "### **Tabla property**"
   ]
  },
  {
   "cell_type": "code",
   "execution_count": null,
   "metadata": {},
   "outputs": [
    {
     "data": {
      "text/plain": [
       "68499"
      ]
     },
     "execution_count": 51,
     "metadata": {},
     "output_type": "execute_result"
    }
   ],
   "source": [
    "# Comprobamos el numero de ids unicos de host\n",
    "df.id.nunique()"
   ]
  },
  {
   "cell_type": "code",
   "execution_count": null,
   "metadata": {},
   "outputs": [
    {
     "data": {
      "text/plain": [
       "68499"
      ]
     },
     "execution_count": 52,
     "metadata": {},
     "output_type": "execute_result"
    }
   ],
   "source": [
    "# Creamos la tabla con los campos necesarios, agrupando por property id\n",
    "tabla_property = df[[\"id\", \"host_id\", \"neighbourhood_cleansed\",\"neighbourhood_group_cleansed\",\"latitude\",\"longitude\",\"city\"]]\n",
    "tabla_property = pd.DataFrame(tabla_property)\n",
    "tabla_property = tabla_property.groupby(\"id\").max()\n",
    "tabla_property.head()\n",
    "len(tabla_property)"
   ]
  },
  {
   "cell_type": "code",
   "execution_count": null,
   "metadata": {},
   "outputs": [],
   "source": [
    "tabla_property.to_csv(\"Tabla_property.csv\",sep=\",\")"
   ]
  },
  {
   "cell_type": "code",
   "execution_count": null,
   "metadata": {},
   "outputs": [
    {
     "data": {
      "text/plain": [
       "245707"
      ]
     },
     "execution_count": 54,
     "metadata": {},
     "output_type": "execute_result"
    }
   ],
   "source": [
    "tabla_host_info = df[[\"host_id\",\"last_scraped\",\"host_is_superhost\",\"host_neighbourhood\",\"host_listings_count\"\n",
    "               ,\"host_response_rate\",\"calculated_host_listings_count\"]]\n",
    "tabla_host_info = pd.DataFrame(tabla_host_info)\n",
    "tabla_host_info.drop_duplicates([\"host_id\", \"last_scraped\"], keep=\"last\", inplace=True)\n",
    "tabla_host_info.head()\n",
    "len(tabla_host_info)"
   ]
  },
  {
   "cell_type": "code",
   "execution_count": null,
   "metadata": {},
   "outputs": [],
   "source": [
    "tabla_host_info.to_csv(\"Tabla_host_info.csv\",sep=\",\", index = False)"
   ]
  },
  {
   "cell_type": "code",
   "execution_count": null,
   "metadata": {},
   "outputs": [],
   "source": [
    "tabla_property_info = df[[\"id\",\"last_scraped\",\"name\",\"description\",\"property_type\", \"room_type\", \"bathrooms\", \"bedrooms\", \"beds\", \"bed_type\", \"requires_license\", \"instant_bookable\"]]\n",
    "tabla_property_info = pd.DataFrame(tabla_property_info)\n",
    "tabla_property_info.drop_duplicates([\"id\",\"last_scraped\"], keep=\"last\", inplace=True)\n",
    "len(tabla_property_info)"
   ]
  },
  {
   "cell_type": "code",
   "execution_count": null,
   "metadata": {},
   "outputs": [],
   "source": [
    "tabla_property_info.to_csv(\"Tabla_property_info.csv\",sep=\",\",index=False)"
   ]
  },
  {
   "cell_type": "code",
   "execution_count": null,
   "metadata": {},
   "outputs": [],
   "source": [
    "tabla_occupation = df[[\"id\",\"last_scraped\",\"minimum_nights_avg_ntm\", \"maximum_nights_avg_ntm\", \"availability_30\", \"availability_60\", \"availability_90\", \"availability_365\"]]\n",
    "tabla_occupation = pd.DataFrame(tabla_occupation)\n",
    "tabla_occupation.drop_duplicates([\"id\",\"last_scraped\"], keep=\"last\", inplace=True)\n",
    "len(tabla_occupation)"
   ]
  },
  {
   "cell_type": "code",
   "execution_count": null,
   "metadata": {},
   "outputs": [],
   "source": [
    "tabla_occupation.to_csv(\"Tabla_occupation.csv\",sep=\",\",index=False)"
   ]
  },
  {
   "cell_type": "code",
   "execution_count": null,
   "metadata": {},
   "outputs": [],
   "source": [
    "tabla_prices = df[[\"id\",\"last_scraped\", \"price\", \"cleaning_fee\", \"guests_included\", \"extra_people\", \"cancellation_policy\", \"accommodates\"]]\n",
    "tabla_prices = pd.DataFrame(tabla_prices)\n",
    "tabla_prices.drop_duplicates([\"id\",\"last_scraped\"], keep=\"last\", inplace=True)\n",
    "len(tabla_prices)"
   ]
  },
  {
   "cell_type": "code",
   "execution_count": null,
   "metadata": {},
   "outputs": [],
   "source": [
    "tabla_prices.to_csv(\"Tabla_prices.csv\",sep=\",\",index=False)"
   ]
  },
  {
   "cell_type": "code",
   "execution_count": null,
   "metadata": {},
   "outputs": [],
   "source": [
    "tabla_reviews = df[[\"id\",\"last_scraped\", \"number_of_reviews\", \"number_of_reviews_ltm\", \"reviews_per_month\", \"first_review\", \"last_review\", \"review_scores_rating\", \"review_scores_accuracy\", \"review_scores_cleanliness\", \"review_scores_checkin\", \"review_scores_communication\", \"review_scores_location\", \"review_scores_value\"]]\n",
    "tabla_reviews = pd.DataFrame(tabla_reviews)\n",
    "tabla_reviews.drop_duplicates([\"id\",\"last_scraped\"], keep=\"last\", inplace=True)\n",
    "len(tabla_reviews)"
   ]
  },
  {
   "cell_type": "code",
   "execution_count": null,
   "metadata": {},
   "outputs": [],
   "source": [
    "tabla_reviews.to_csv(\"Tabla_reviews.csv\",sep=\",\",index=False)"
   ]
  },
  {
   "cell_type": "code",
   "execution_count": null,
   "metadata": {},
   "outputs": [],
   "source": [
    "tabla_amenities = df[[\"id\",\"last_scraped\", \"amenities\"]]\n",
    "tabla_amenities = pd.DataFrame(tabla_amenities)\n",
    "tabla_amenities.drop_duplicates([\"id\",\"last_scraped\"], keep=\"last\", inplace=True)\n",
    "len(tabla_amenities)"
   ]
  },
  {
   "cell_type": "code",
   "execution_count": null,
   "metadata": {},
   "outputs": [],
   "source": [
    "tabla_amenities.to_csv(\"Tabla_amenities.csv\",sep=\",\",index=False)"
   ]
  },
  {
   "cell_type": "code",
   "execution_count": null,
   "metadata": {},
   "outputs": [],
   "source": [
    "df.shape"
   ]
  }
 ],
 "metadata": {
  "kernelspec": {
   "display_name": "Python 3",
   "language": "python",
   "name": "python3"
  },
  "language_info": {
   "codemirror_mode": {
    "name": "ipython",
    "version": 3
   },
   "file_extension": ".py",
   "mimetype": "text/x-python",
   "name": "python",
   "nbconvert_exporter": "python",
   "pygments_lexer": "ipython3",
   "version": "3.7.1"
  }
 },
 "nbformat": 4,
 "nbformat_minor": 2
}
