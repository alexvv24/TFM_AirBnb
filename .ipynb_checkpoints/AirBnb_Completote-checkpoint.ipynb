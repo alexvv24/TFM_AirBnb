{
 "cells": [
  {
   "cell_type": "markdown",
   "metadata": {},
   "source": [
    "## Limpieza de los datos de *AirBnb*"
   ]
  },
  {
   "cell_type": "markdown",
   "metadata": {},
   "source": [
    "En la [web](http://insideairbnb.com/get-the-data.html) tenemos 7 archivos diferentes sobre los establecimientos AirBnb en Madrid.  Estos archivos son:\n",
    "* listings.csv.gz \n",
    "* calendar.csv.gz \n",
    "* reviews.csv.gz\n",
    "* listings.csv\n",
    "* reviews.csv\n",
    "* neighbourhoods.csv\n",
    "* neighbourhoods.geojson\n",
    "\n",
    "Los que tienen la extensión .gz son datos sin agrupar que vienen en formato comprimido mientras que los que no la tienen son datos agregados.  Los dos últimos tienen la función de geolocalizar los apartamentos en el mapa."
   ]
  },
  {
   "cell_type": "code",
   "execution_count": 1,
   "metadata": {},
   "outputs": [],
   "source": [
    "import pandas as pd\n",
    "import matplotlib.pyplot as plt\n",
    "import seaborn as sns\n",
    "import re\n",
    "%matplotlib inline\n",
    "import seaborn as sns\n",
    "import numpy as np"
   ]
  },
  {
   "cell_type": "code",
   "execution_count": 2,
   "metadata": {},
   "outputs": [],
   "source": [
    "df_feb = pd.read_csv('Data/Lisboa/listings0.csv.gz',compression='gzip',low_memory=False)\n",
    "df_ene = pd.read_csv('Data/Lisboa/listings1.csv.gz',compression='gzip',low_memory=False)\n",
    "df_dic = pd.read_csv('Data/Lisboa/listings2.csv.gz',compression='gzip',low_memory=False)\n",
    "df_nov = pd.read_csv('Data/Lisboa/listings3.csv.gz',compression='gzip',low_memory=False)\n",
    "df_oct = pd.read_csv('Data/Lisboa/listings4.csv.gz',compression='gzip',low_memory=False)\n",
    "df_sep = pd.read_csv('Data/Lisboa/listings5.csv.gz',compression='gzip',low_memory=False)\n",
    "df_ago = pd.read_csv('Data/Lisboa/listings6.csv.gz',compression='gzip',low_memory=False)\n",
    "df_jul = pd.read_csv('Data/Lisboa/listings7.csv.gz',compression='gzip',low_memory=False)\n",
    "df_may = pd.read_csv('Data/Lisboa/listings8.csv.gz',compression='gzip',low_memory=False)\n",
    "df_abr = pd.read_csv('Data/Lisboa/listings9.csv.gz',compression='gzip',low_memory=False)\n",
    "\n"
   ]
  },
  {
   "cell_type": "code",
   "execution_count": 3,
   "metadata": {},
   "outputs": [],
   "source": [
    "files = [df_feb,df_ene,df_dic,df_nov,df_oct,df_sep,df_ago,df_jul,df_may,df_abr]\n",
    "\n",
    "df_Lisboa = pd.concat(files,sort=True)"
   ]
  },
  {
   "cell_type": "code",
   "execution_count": 4,
   "metadata": {},
   "outputs": [],
   "source": [
    "df_feb = pd.read_csv('Data/Madrid/listings0.csv.gz',compression='gzip',low_memory=False)\n",
    "df_ene = pd.read_csv('Data/Madrid/listings1.csv.gz',compression='gzip',low_memory=False)\n",
    "df_dic = pd.read_csv('Data/Madrid/listings2.csv.gz',compression='gzip',low_memory=False)\n",
    "df_nov = pd.read_csv('Data/Madrid/listings3.csv.gz',compression='gzip',low_memory=False)\n",
    "df_oct = pd.read_csv('Data/Madrid/listings4.csv.gz',compression='gzip',low_memory=False)\n",
    "df_sep = pd.read_csv('Data/Madrid/listings5.csv.gz',compression='gzip',low_memory=False)\n",
    "df_ago = pd.read_csv('Data/Madrid/listings6.csv.gz',compression='gzip',low_memory=False)\n",
    "df_jul = pd.read_csv('Data/Madrid/listings7.csv.gz',compression='gzip',low_memory=False)\n",
    "df_may = pd.read_csv('Data/Madrid/listings8.csv.gz',compression='gzip',low_memory=False)\n",
    "df_abr = pd.read_csv('Data/Madrid/listings9.csv.gz',compression='gzip',low_memory=False)"
   ]
  },
  {
   "cell_type": "code",
   "execution_count": 5,
   "metadata": {},
   "outputs": [],
   "source": [
    "files = [df_feb,df_ene,df_dic,df_nov,df_oct,df_sep,df_ago,df_jul,df_may,df_abr]\n",
    "\n",
    "df_Madrid = pd.concat(files, sort=True)"
   ]
  },
  {
   "cell_type": "code",
   "execution_count": 6,
   "metadata": {},
   "outputs": [
    {
     "data": {
      "text/html": [
       "<div>\n",
       "<style scoped>\n",
       "    .dataframe tbody tr th:only-of-type {\n",
       "        vertical-align: middle;\n",
       "    }\n",
       "\n",
       "    .dataframe tbody tr th {\n",
       "        vertical-align: top;\n",
       "    }\n",
       "\n",
       "    .dataframe thead th {\n",
       "        text-align: right;\n",
       "    }\n",
       "</style>\n",
       "<table border=\"1\" class=\"dataframe\">\n",
       "  <thead>\n",
       "    <tr style=\"text-align: right;\">\n",
       "      <th></th>\n",
       "      <th>access</th>\n",
       "      <th>accommodates</th>\n",
       "      <th>amenities</th>\n",
       "      <th>availability_30</th>\n",
       "      <th>availability_365</th>\n",
       "      <th>availability_60</th>\n",
       "      <th>availability_90</th>\n",
       "      <th>bathrooms</th>\n",
       "      <th>bed_type</th>\n",
       "      <th>bedrooms</th>\n",
       "      <th>...</th>\n",
       "      <th>space</th>\n",
       "      <th>square_feet</th>\n",
       "      <th>state</th>\n",
       "      <th>street</th>\n",
       "      <th>summary</th>\n",
       "      <th>thumbnail_url</th>\n",
       "      <th>transit</th>\n",
       "      <th>weekly_price</th>\n",
       "      <th>xl_picture_url</th>\n",
       "      <th>zipcode</th>\n",
       "    </tr>\n",
       "  </thead>\n",
       "  <tbody>\n",
       "    <tr>\n",
       "      <th>0</th>\n",
       "      <td>Full use of living room, kitchen (with dishwas...</td>\n",
       "      <td>2</td>\n",
       "      <td>{Wifi,\"Air conditioning\",Kitchen,Elevator,Heat...</td>\n",
       "      <td>30</td>\n",
       "      <td>83</td>\n",
       "      <td>53</td>\n",
       "      <td>83</td>\n",
       "      <td>1.0</td>\n",
       "      <td>Real Bed</td>\n",
       "      <td>1.0</td>\n",
       "      <td>...</td>\n",
       "      <td>BETTER THAN A HOTEL.Upscale neighboorhood (Met...</td>\n",
       "      <td>172.0</td>\n",
       "      <td>Comunidad de Madrid</td>\n",
       "      <td>Madrid, Comunidad de Madrid, Spain</td>\n",
       "      <td>Atico en la calle Principe de Vergara, con bañ...</td>\n",
       "      <td>NaN</td>\n",
       "      <td>Excelent public transport and easy Access to m...</td>\n",
       "      <td>$350.00</td>\n",
       "      <td>NaN</td>\n",
       "      <td>28016</td>\n",
       "    </tr>\n",
       "    <tr>\n",
       "      <th>1</th>\n",
       "      <td>There is fibre optic internet connection for y...</td>\n",
       "      <td>1</td>\n",
       "      <td>{TV,Internet,Wifi,\"Air conditioning\",Kitchen,\"...</td>\n",
       "      <td>0</td>\n",
       "      <td>0</td>\n",
       "      <td>0</td>\n",
       "      <td>0</td>\n",
       "      <td>1.0</td>\n",
       "      <td>Real Bed</td>\n",
       "      <td>1.0</td>\n",
       "      <td>...</td>\n",
       "      <td>I am living in a nice flat near the centre of ...</td>\n",
       "      <td>97.0</td>\n",
       "      <td>Madrid</td>\n",
       "      <td>Madrid, Madrid, Spain</td>\n",
       "      <td>We have a quiet and sunny room with a good vie...</td>\n",
       "      <td>NaN</td>\n",
       "      <td>The flat is near the centre of Madrid (15 minu...</td>\n",
       "      <td>$98.00</td>\n",
       "      <td>NaN</td>\n",
       "      <td>28047</td>\n",
       "    </tr>\n",
       "    <tr>\n",
       "      <th>2</th>\n",
       "      <td>La disponibilidad de acceso al apartamento es ...</td>\n",
       "      <td>4</td>\n",
       "      <td>{TV,\"Cable TV\",Internet,Wifi,\"Air conditioning...</td>\n",
       "      <td>18</td>\n",
       "      <td>317</td>\n",
       "      <td>35</td>\n",
       "      <td>56</td>\n",
       "      <td>1.0</td>\n",
       "      <td>Real Bed</td>\n",
       "      <td>2.0</td>\n",
       "      <td>...</td>\n",
       "      <td>Select the Madrid more \"cool\" : 70 m, 2 bedroo...</td>\n",
       "      <td>NaN</td>\n",
       "      <td>Comunidad de Madrid</td>\n",
       "      <td>Madrid, Comunidad de Madrid, Spain</td>\n",
       "      <td>Apartamento céntrico junto a Gran Vía (VT-296)...</td>\n",
       "      <td>NaN</td>\n",
       "      <td>La situación del apartamento hace accesibles a...</td>\n",
       "      <td>$600.00</td>\n",
       "      <td>NaN</td>\n",
       "      <td>28004</td>\n",
       "    </tr>\n",
       "    <tr>\n",
       "      <th>3</th>\n",
       "      <td>NaN</td>\n",
       "      <td>2</td>\n",
       "      <td>{Internet,Wifi,\"Wheelchair accessible\",Doorman...</td>\n",
       "      <td>29</td>\n",
       "      <td>364</td>\n",
       "      <td>59</td>\n",
       "      <td>89</td>\n",
       "      <td>1.0</td>\n",
       "      <td>Real Bed</td>\n",
       "      <td>1.0</td>\n",
       "      <td>...</td>\n",
       "      <td>Room for two person with dressing room and bat...</td>\n",
       "      <td>NaN</td>\n",
       "      <td>Comunidad de Madrid</td>\n",
       "      <td>Madrid, Comunidad de Madrid, Spain</td>\n",
       "      <td>NaN</td>\n",
       "      <td>NaN</td>\n",
       "      <td>NaN</td>\n",
       "      <td>NaN</td>\n",
       "      <td>NaN</td>\n",
       "      <td>28045</td>\n",
       "    </tr>\n",
       "    <tr>\n",
       "      <th>4</th>\n",
       "      <td>– Smoking is prohibited in rooms and public ar...</td>\n",
       "      <td>1</td>\n",
       "      <td>{Wifi,\"Wheelchair accessible\",Doorman,Elevator...</td>\n",
       "      <td>2</td>\n",
       "      <td>329</td>\n",
       "      <td>31</td>\n",
       "      <td>61</td>\n",
       "      <td>1.0</td>\n",
       "      <td>Real Bed</td>\n",
       "      <td>1.0</td>\n",
       "      <td>...</td>\n",
       "      <td>Nice and cozy roon for one person with a priva...</td>\n",
       "      <td>NaN</td>\n",
       "      <td>Comunidad de Madrid</td>\n",
       "      <td>Madrid, Comunidad de Madrid, Spain</td>\n",
       "      <td>Nice and cozy roon for one person with a priva...</td>\n",
       "      <td>NaN</td>\n",
       "      <td>Muy bien comunicado con dos Metros a cinco min...</td>\n",
       "      <td>NaN</td>\n",
       "      <td>NaN</td>\n",
       "      <td>28045</td>\n",
       "    </tr>\n",
       "  </tbody>\n",
       "</table>\n",
       "<p>5 rows × 106 columns</p>\n",
       "</div>"
      ],
      "text/plain": [
       "                                              access  accommodates  \\\n",
       "0  Full use of living room, kitchen (with dishwas...             2   \n",
       "1  There is fibre optic internet connection for y...             1   \n",
       "2  La disponibilidad de acceso al apartamento es ...             4   \n",
       "3                                                NaN             2   \n",
       "4  – Smoking is prohibited in rooms and public ar...             1   \n",
       "\n",
       "                                           amenities  availability_30  \\\n",
       "0  {Wifi,\"Air conditioning\",Kitchen,Elevator,Heat...               30   \n",
       "1  {TV,Internet,Wifi,\"Air conditioning\",Kitchen,\"...                0   \n",
       "2  {TV,\"Cable TV\",Internet,Wifi,\"Air conditioning...               18   \n",
       "3  {Internet,Wifi,\"Wheelchair accessible\",Doorman...               29   \n",
       "4  {Wifi,\"Wheelchair accessible\",Doorman,Elevator...                2   \n",
       "\n",
       "   availability_365  availability_60  availability_90  bathrooms  bed_type  \\\n",
       "0                83               53               83        1.0  Real Bed   \n",
       "1                 0                0                0        1.0  Real Bed   \n",
       "2               317               35               56        1.0  Real Bed   \n",
       "3               364               59               89        1.0  Real Bed   \n",
       "4               329               31               61        1.0  Real Bed   \n",
       "\n",
       "   bedrooms   ...                                                space  \\\n",
       "0       1.0   ...    BETTER THAN A HOTEL.Upscale neighboorhood (Met...   \n",
       "1       1.0   ...    I am living in a nice flat near the centre of ...   \n",
       "2       2.0   ...    Select the Madrid more \"cool\" : 70 m, 2 bedroo...   \n",
       "3       1.0   ...    Room for two person with dressing room and bat...   \n",
       "4       1.0   ...    Nice and cozy roon for one person with a priva...   \n",
       "\n",
       "   square_feet                state                              street  \\\n",
       "0        172.0  Comunidad de Madrid  Madrid, Comunidad de Madrid, Spain   \n",
       "1         97.0               Madrid               Madrid, Madrid, Spain   \n",
       "2          NaN  Comunidad de Madrid  Madrid, Comunidad de Madrid, Spain   \n",
       "3          NaN  Comunidad de Madrid  Madrid, Comunidad de Madrid, Spain   \n",
       "4          NaN  Comunidad de Madrid  Madrid, Comunidad de Madrid, Spain   \n",
       "\n",
       "                                             summary thumbnail_url  \\\n",
       "0  Atico en la calle Principe de Vergara, con bañ...           NaN   \n",
       "1  We have a quiet and sunny room with a good vie...           NaN   \n",
       "2  Apartamento céntrico junto a Gran Vía (VT-296)...           NaN   \n",
       "3                                                NaN           NaN   \n",
       "4  Nice and cozy roon for one person with a priva...           NaN   \n",
       "\n",
       "                                             transit weekly_price  \\\n",
       "0  Excelent public transport and easy Access to m...      $350.00   \n",
       "1  The flat is near the centre of Madrid (15 minu...       $98.00   \n",
       "2  La situación del apartamento hace accesibles a...      $600.00   \n",
       "3                                                NaN          NaN   \n",
       "4  Muy bien comunicado con dos Metros a cinco min...          NaN   \n",
       "\n",
       "  xl_picture_url zipcode  \n",
       "0            NaN   28016  \n",
       "1            NaN   28047  \n",
       "2            NaN   28004  \n",
       "3            NaN   28045  \n",
       "4            NaN   28045  \n",
       "\n",
       "[5 rows x 106 columns]"
      ]
     },
     "execution_count": 6,
     "metadata": {},
     "output_type": "execute_result"
    }
   ],
   "source": [
    "#Todas las columnas están en minúsculas y no hay espacios\n",
    "df_Madrid.head()"
   ]
  },
  {
   "cell_type": "code",
   "execution_count": 7,
   "metadata": {},
   "outputs": [],
   "source": [
    "#Cambiamos todos los campos sin formatear de ambas ciudades por su nombre\n",
    "df_Madrid.city = \"Madrid\"\n",
    "df_Lisboa.city = \"Lisboa\""
   ]
  },
  {
   "cell_type": "code",
   "execution_count": 8,
   "metadata": {},
   "outputs": [
    {
     "data": {
      "text/plain": [
       "Madrid    176705\n",
       "Name: city, dtype: int64"
      ]
     },
     "execution_count": 8,
     "metadata": {},
     "output_type": "execute_result"
    }
   ],
   "source": [
    "df_Madrid.city.value_counts()"
   ]
  },
  {
   "cell_type": "code",
   "execution_count": 9,
   "metadata": {},
   "outputs": [
    {
     "data": {
      "text/plain": [
       "Lisboa    220101\n",
       "Name: city, dtype: int64"
      ]
     },
     "execution_count": 9,
     "metadata": {},
     "output_type": "execute_result"
    }
   ],
   "source": [
    "df_Lisboa.city.value_counts()"
   ]
  },
  {
   "cell_type": "code",
   "execution_count": 10,
   "metadata": {},
   "outputs": [],
   "source": [
    "df = pd.concat([df_Lisboa,df_Madrid],sort=True)"
   ]
  },
  {
   "cell_type": "code",
   "execution_count": 11,
   "metadata": {
    "scrolled": false
   },
   "outputs": [
    {
     "data": {
      "text/plain": [
       "(396806, 106)"
      ]
     },
     "execution_count": 11,
     "metadata": {},
     "output_type": "execute_result"
    }
   ],
   "source": [
    "#vemos la estructura de los datos \n",
    "df.shape"
   ]
  },
  {
   "cell_type": "markdown",
   "metadata": {},
   "source": [
    "El **primer criterio** utilizado para simplificar la información contenida en la tabla es el de encontrar \n",
    "aquellas columnas prescindibles."
   ]
  },
  {
   "cell_type": "code",
   "execution_count": 12,
   "metadata": {},
   "outputs": [],
   "source": [
    "#Comprobamos chequeando la URL que significa cada columna y eliminamos las que son solo de consulta, \n",
    "\n",
    "a_borrar_consulta = ['listing_url','host_url']\n",
    "\n",
    "#campos de texto sin relevancia, variables redundantes o URL`s que no nos sirven para el análisis. \n",
    "#Normalmente los campos de texto no vienen predeterminados por AirBnb y por tanto no tienen formato establecido.\n",
    "\n",
    "a_borrar_texto = ['summary','space','neighborhood_overview','notes'\n",
    "                     ,'transit','access','interaction','house_rules','host_name']\n",
    "a_borrar_redundantes = ['scrape_id','calendar_last_scraped','jurisdiction_names','country'\n",
    "                        ,'country_code','street','market','smart_location','host_location','zipcode','state'\n",
    "                       ,'neighbourhood']\n",
    "a_borrar_urls = ['thumbnail_url','picture_url','medium_url','xl_picture_url','host_thumbnail_url',\n",
    "                 'host_picture_url','host_url','listing_url']\n",
    "\n",
    "#Las siguientes columnas son eliminadas por el desconocimiento del método de cálculo o por no comprender que significan\n",
    "\n",
    "a_borrar_desconocidas = ['is_location_exact','maximum_maximum_nights','maximum_minimum_nights','minimum_minimum_nights'\n",
    "                        ,'minimum_maximum_nights','is_business_travel_ready',\n",
    "                         'host_verifications','host_identity_verified']\n",
    "#Las siguientes hacen referencia al método de scrapping o están condicionadas por el momento concreto en el que se hizo\n",
    "\n",
    "a_borrar_scrapping = ['maximum_nights','minimum_nights','calendar_updated','has_availability']\n",
    "\n",
    "#Por último, estos requerimientos no son necesarios:\n",
    "\n",
    "a_borrar_irrelevantes = ['require_guest_profile_picture','require_guest_phone_verification','experiences_offered'\n",
    "                         ,'host_has_profile_pic']"
   ]
  },
  {
   "cell_type": "code",
   "execution_count": 13,
   "metadata": {},
   "outputs": [
    {
     "data": {
      "text/plain": [
       "(396806, 61)"
      ]
     },
     "execution_count": 13,
     "metadata": {},
     "output_type": "execute_result"
    }
   ],
   "source": [
    "#Juntamos todas las columnas, las eliminamos y comprobamos cuánto se han reducido\n",
    "Useless = a_borrar_texto+a_borrar_redundantes+a_borrar_urls+a_borrar_desconocidas+a_borrar_scrapping+a_borrar_irrelevantes\n",
    "df.drop(Useless,axis=1,inplace=True)\n",
    "df.shape\n"
   ]
  },
  {
   "cell_type": "markdown",
   "metadata": {},
   "source": [
    "El **segundo criterio** para reducir las dimensiones es eliminar aquellas columnas que contengan al menos un 30% \n",
    "de nulos, ya que no serán útiles con tanta información perdida.\n"
   ]
  },
  {
   "cell_type": "code",
   "execution_count": 14,
   "metadata": {
    "scrolled": true
   },
   "outputs": [
    {
     "data": {
      "image/png": "[encoded data removed]",
      "text/plain": [
       "<Figure size 1584x504 with 1 Axes>"
      ]
     },
     "metadata": {
      "needs_background": "light"
     },
     "output_type": "display_data"
    }
   ],
   "source": [
    "#Representamos gráficamente el % de nulos de las columnas restantes\n",
    "missing = df.isnull().sum()/df.shape[0]\n",
    "ax = missing.plot(kind='bar',figsize=(22,7))\n",
    "ax.set_xlabel('columnas',fontsize=18)\n",
    "ax.set_ylabel('% datos que faltan',fontsize=18)\n",
    "ax.set_title('Selección de columnas',fontsize=22)\n",
    "plt.show()\n"
   ]
  },
  {
   "cell_type": "code",
   "execution_count": 15,
   "metadata": {
    "scrolled": true
   },
   "outputs": [
    {
     "data": {
      "text/plain": [
       "['calculated_host_listings_count_entire_homes',\n",
       " 'calculated_host_listings_count_private_rooms',\n",
       " 'calculated_host_listings_count_shared_rooms',\n",
       " 'host_about',\n",
       " 'host_acceptance_rate',\n",
       " 'monthly_price',\n",
       " 'security_deposit',\n",
       " 'square_feet',\n",
       " 'weekly_price']"
      ]
     },
     "execution_count": 15,
     "metadata": {},
     "output_type": "execute_result"
    }
   ],
   "source": [
    "nulos = missing.loc[missing > 0.3].index\n",
    "\n",
    "nulos_lista = list(nulos)\n",
    "#Dejamos las siguientes columnas aunque tengan muchos nulos ya que pueden ser importantes para los periodos que están disponibles\n",
    "nulos_lista.remove('license')\n",
    "nulos_lista.remove('maximum_nights_avg_ntm')\n",
    "nulos_lista.remove('minimum_nights_avg_ntm')\n",
    "nulos_lista.remove('number_of_reviews_ltm')\n",
    "nulos_lista.remove('host_neighbourhood')\n",
    "nulos_lista"
   ]
  },
  {
   "cell_type": "code",
   "execution_count": 16,
   "metadata": {},
   "outputs": [
    {
     "data": {
      "text/plain": [
       "(396806, 52)"
      ]
     },
     "execution_count": 16,
     "metadata": {},
     "output_type": "execute_result"
    }
   ],
   "source": [
    "#Tenemos 62 columnas para realizar el análisis, pudiendo ser reducidas en el futuro en caso de ser considerado.\n",
    "df.drop(nulos_lista, axis = 1, inplace = True)\n",
    "df.shape"
   ]
  },
  {
   "cell_type": "code",
   "execution_count": 17,
   "metadata": {},
   "outputs": [
    {
     "data": {
      "text/plain": [
       "Index(['accommodates', 'amenities', 'availability_30', 'availability_365',\n",
       "       'availability_60', 'availability_90', 'bathrooms', 'bed_type',\n",
       "       'bedrooms', 'beds', 'calculated_host_listings_count',\n",
       "       'cancellation_policy', 'city', 'cleaning_fee', 'description',\n",
       "       'extra_people', 'first_review', 'guests_included', 'host_id',\n",
       "       'host_is_superhost', 'host_listings_count', 'host_neighbourhood',\n",
       "       'host_response_rate', 'host_response_time', 'host_since',\n",
       "       'host_total_listings_count', 'id', 'instant_bookable', 'last_review',\n",
       "       'last_scraped', 'latitude', 'license', 'longitude',\n",
       "       'maximum_nights_avg_ntm', 'minimum_nights_avg_ntm', 'name',\n",
       "       'neighbourhood_cleansed', 'neighbourhood_group_cleansed',\n",
       "       'number_of_reviews', 'number_of_reviews_ltm', 'price', 'property_type',\n",
       "       'requires_license', 'review_scores_accuracy', 'review_scores_checkin',\n",
       "       'review_scores_cleanliness', 'review_scores_communication',\n",
       "       'review_scores_location', 'review_scores_rating', 'review_scores_value',\n",
       "       'reviews_per_month', 'room_type'],\n",
       "      dtype='object')"
      ]
     },
     "execution_count": 17,
     "metadata": {},
     "output_type": "execute_result"
    }
   ],
   "source": [
    "#Comprobamos las columnas restantes\n",
    "df.columns"
   ]
  },
  {
   "cell_type": "code",
   "execution_count": 18,
   "metadata": {
    "scrolled": true
   },
   "outputs": [
    {
     "data": {
      "text/plain": [
       "dtype('<M8[ns]')"
      ]
     },
     "execution_count": 18,
     "metadata": {},
     "output_type": "execute_result"
    }
   ],
   "source": [
    "#Pasamos las fechas de formato texto a fecha\n",
    "df.last_scraped = pd.to_datetime(df.last_scraped)\n",
    "df.host_since = pd.to_datetime(df.host_since)\n",
    "df.first_review = pd.to_datetime(df.first_review)\n",
    "df.last_review = pd.to_datetime(df.last_review)\n",
    "df.last_scraped.dtype"
   ]
  },
  {
   "cell_type": "markdown",
   "metadata": {},
   "source": [
    "Comprobamos de donde vienen los 200 NaN y si hay columnas que los tienen en común"
   ]
  },
  {
   "cell_type": "code",
   "execution_count": 19,
   "metadata": {},
   "outputs": [],
   "source": [
    "pd.set_option('display.max_rows', 500)\n",
    "pd.set_option('display.max_columns', 500)\n",
    "pd.set_option('display.width', 1000)\n",
    "prueba = df[df.host_is_superhost.isnull()]"
   ]
  },
  {
   "cell_type": "code",
   "execution_count": 20,
   "metadata": {},
   "outputs": [
    {
     "data": {
      "text/plain": [
       "host_is_superhost            200\n",
       "host_listings_count          200\n",
       "host_since                   200\n",
       "host_total_listings_count    200\n",
       "dtype: int64"
      ]
     },
     "execution_count": 20,
     "metadata": {},
     "output_type": "execute_result"
    }
   ],
   "source": [
    "missing = df.isnull().sum()\n",
    "missing[missing == 200]"
   ]
  },
  {
   "cell_type": "code",
   "execution_count": 21,
   "metadata": {},
   "outputs": [],
   "source": [
    "#Reemplazamos valores [t,f] por [True, False]\n",
    "\n",
    "df.host_is_superhost = df.host_is_superhost.str.replace(\"f\",\"0\")\n",
    "df.host_is_superhost = df.host_is_superhost.str.replace(\"t\",\"1\")\n",
    "\n",
    "\n"
   ]
  },
  {
   "cell_type": "code",
   "execution_count": 22,
   "metadata": {},
   "outputs": [],
   "source": [
    "df.requires_license = df.requires_license.str.replace(\"f\",\"0\")\n",
    "df.requires_license = df.requires_license.str.replace(\"t\",\"1\")"
   ]
  },
  {
   "cell_type": "code",
   "execution_count": 23,
   "metadata": {},
   "outputs": [],
   "source": [
    "df.instant_bookable = df.instant_bookable.str.replace(\"f\",\"0\")\n",
    "df.instant_bookable = df.instant_bookable.str.replace(\"t\",\"1\")"
   ]
  },
  {
   "cell_type": "code",
   "execution_count": 24,
   "metadata": {},
   "outputs": [
    {
     "name": "stderr",
     "output_type": "stream",
     "text": [
      "/anaconda3/lib/python3.7/site-packages/ipykernel_launcher.py:2: UserWarning: Pandas doesn't allow columns to be created via a new attribute name - see https://pandas.pydata.org/pandas-docs/stable/indexing.html#attribute-access\n",
      "  \n"
     ]
    }
   ],
   "source": [
    "df.requires_license = df.requires_license.astype('int64',errors='ignore')\n",
    "df.insant_bookable = df.instant_bookable.astype('int64',errors='ignore')"
   ]
  },
  {
   "cell_type": "code",
   "execution_count": 25,
   "metadata": {},
   "outputs": [],
   "source": [
    "#df.host_is_superhost = df.host_is_superhost.astype(bool)\n",
    "df.requires_license = df.requires_license.astype(bool)\n",
    "df.instant_bookable = df.instant_bookable.astype(bool)"
   ]
  },
  {
   "cell_type": "code",
   "execution_count": 26,
   "metadata": {},
   "outputs": [
    {
     "data": {
      "text/plain": [
       "0    311127\n",
       "1     85479\n",
       "Name: host_is_superhost, dtype: int64"
      ]
     },
     "execution_count": 26,
     "metadata": {},
     "output_type": "execute_result"
    }
   ],
   "source": [
    "df.host_is_superhost.value_counts()"
   ]
  },
  {
   "cell_type": "code",
   "execution_count": 27,
   "metadata": {},
   "outputs": [
    {
     "data": {
      "text/plain": [
       "dtype('bool')"
      ]
     },
     "execution_count": 27,
     "metadata": {},
     "output_type": "execute_result"
    }
   ],
   "source": [
    "#Comprobamos que está en booleano\n",
    "df.requires_license.dtype"
   ]
  },
  {
   "cell_type": "markdown",
   "metadata": {},
   "source": [
    "### Las políticas de cancelación del AirBnb son las siguientes:\n",
    "\n",
    "* Flexible: Si la cancelación se hace con al menos 24h de antelación el huésped tiene derecho a una devolución completa.  Si es con menos de 24h la primera noche no será reembolsada, siendo el resto de los días reembolsados.\n",
    "\n",
    "* Moderate: La cancelación se debe hacer o bien 48h después de la reserva o 5 días antes de la llegada para obtener reembolso completo.  Si se cancela con menos de 5 días de antelación se reembolsará el *50%* de las noches sin contar la primera.\n",
    "\n",
    "* Strict_14_with_grace_period: La cancelación se debe hacer o bien 48h después de la reserva o *14* días antes de la llegada para obtener reembolso completo.  Para obtener el 50% del reembolso se debe cancelar con al menos 7 dias completos antes del día y hora local.  Con menos de 7 dias no hay reembolso.\n",
    "\n",
    "* Super_strict_30: Si la cancelación se produce con al menos 30 días se reembolsa el 50%.\n",
    "\n",
    "* Super_strict_60: Si la cancelación se produce con al menos 60 días se reembolsa el 50%.\n",
    "\n",
    "* Long_term: Se aplica a huéspedes que están 28 días o más. El primer mes lo cobra el host sea cual sea la cancelación."
   ]
  },
  {
   "cell_type": "code",
   "execution_count": 28,
   "metadata": {
    "scrolled": true
   },
   "outputs": [
    {
     "data": {
      "text/plain": [
       "strict_14_with_grace_period    151624\n",
       "moderate                       127271\n",
       "flexible                       101096\n",
       "strict                          13716\n",
       "super_strict_30                  2064\n",
       "super_strict_60                  1034\n",
       "flexible_new                        1\n",
       "Name: cancellation_policy, dtype: int64"
      ]
     },
     "execution_count": 28,
     "metadata": {},
     "output_type": "execute_result"
    }
   ],
   "source": [
    "#Comprobamos que strict_14_with_grace_period y strict se refiere a lo mismo \n",
    "df.cancellation_policy.value_counts()"
   ]
  },
  {
   "cell_type": "code",
   "execution_count": 29,
   "metadata": {},
   "outputs": [],
   "source": [
    "#Eliminamos un valor raro cuya política no aparece en AirBnb\n",
    "df = df[df.cancellation_policy != \"flexible_new\"]"
   ]
  },
  {
   "cell_type": "code",
   "execution_count": 30,
   "metadata": {},
   "outputs": [
    {
     "data": {
      "text/plain": [
       "strict             165340\n",
       "moderate           127271\n",
       "flexible           101096\n",
       "super_strict_30      2064\n",
       "super_strict_60      1034\n",
       "Name: cancellation_policy, dtype: int64"
      ]
     },
     "execution_count": 30,
     "metadata": {},
     "output_type": "execute_result"
    }
   ],
   "source": [
    "#Por tanto igualamos los nombres al formato que tiene AirBnb en su web\n",
    "df.cancellation_policy = df.cancellation_policy.str.replace(\"strict_14_with_grace_period\",\"strict\")\n",
    "df.cancellation_policy.value_counts()"
   ]
  },
  {
   "cell_type": "code",
   "execution_count": 31,
   "metadata": {},
   "outputs": [
    {
     "data": {
      "text/plain": [
       "Entire home/apt    275443\n",
       "Private room       115589\n",
       "Shared room          5773\n",
       "Name: room_type, dtype: int64"
      ]
     },
     "execution_count": 31,
     "metadata": {},
     "output_type": "execute_result"
    }
   ],
   "source": [
    "#La columna room type también es categórica \n",
    "df.room_type.value_counts()"
   ]
  },
  {
   "cell_type": "code",
   "execution_count": 32,
   "metadata": {},
   "outputs": [],
   "source": [
    "#Pasamos a categórica con cinco y tres niveles respectivamente\n",
    "df.cancellation_policy = pd.Categorical(df.cancellation_policy, ['flexible','moderate'\n",
    "                                                                         ,'strict',\n",
    "                                                                        'super_strict_30',\n",
    "                                                                         'super_strict_60'],ordered=True)\n",
    "\n",
    "df.room_type = pd.Categorical(df.room_type, ['Entire home/apt','Private room','Shared room'],ordered=True)\n"
   ]
  },
  {
   "cell_type": "code",
   "execution_count": 33,
   "metadata": {
    "scrolled": true
   },
   "outputs": [
    {
     "data": {
      "text/plain": [
       "Index(['accommodates', 'amenities', 'availability_30', 'availability_365', 'availability_60', 'availability_90', 'bathrooms', 'bed_type', 'bedrooms', 'beds', 'calculated_host_listings_count', 'cancellation_policy', 'city', 'cleaning_fee', 'description', 'extra_people', 'first_review', 'guests_included', 'host_id', 'host_is_superhost', 'host_listings_count', 'host_neighbourhood', 'host_response_rate', 'host_response_time', 'host_since', 'host_total_listings_count', 'id', 'instant_bookable', 'last_review', 'last_scraped', 'latitude', 'license', 'longitude', 'maximum_nights_avg_ntm', 'minimum_nights_avg_ntm', 'name', 'neighbourhood_cleansed', 'neighbourhood_group_cleansed', 'number_of_reviews', 'number_of_reviews_ltm', 'price', 'property_type', 'requires_license', 'review_scores_accuracy', 'review_scores_checkin', 'review_scores_cleanliness', 'review_scores_communication', 'review_scores_location', 'review_scores_rating', 'review_scores_value', 'reviews_per_month', 'room_type'], dtype='object')"
      ]
     },
     "execution_count": 33,
     "metadata": {},
     "output_type": "execute_result"
    }
   ],
   "source": [
    "#Comprobamos las columnas restantes\n",
    "df.columns"
   ]
  },
  {
   "cell_type": "code",
   "execution_count": 34,
   "metadata": {},
   "outputs": [
    {
     "data": {
      "text/plain": [
       "dtype('float64')"
      ]
     },
     "execution_count": 34,
     "metadata": {},
     "output_type": "execute_result"
    }
   ],
   "source": [
    "#host listings count - está como float y tiene que estar como integer\n",
    "df.host_listings_count = df.host_listings_count.astype('int64',errors = 'ignore')\n",
    "df.host_listings_count.dtype\n",
    "#Sin embargo, el resultado de esta columna sigue siendo float ya que en Python, NaN son tomados como float."
   ]
  },
  {
   "cell_type": "code",
   "execution_count": 35,
   "metadata": {},
   "outputs": [],
   "source": [
    "#host response rate - está como object y tiene que estar como float (?) es un porcentaje\n",
    "df.host_response_rate = df.host_response_rate.str.replace(\"%\",\"\").astype(\"float64\")/100\n"
   ]
  },
  {
   "cell_type": "code",
   "execution_count": 36,
   "metadata": {},
   "outputs": [
    {
     "data": {
      "text/plain": [
       "CategoricalDtype(categories=['within an hour', 'within a few hours', 'within a day', 'a few days or more'], ordered=True)"
      ]
     },
     "execution_count": 36,
     "metadata": {},
     "output_type": "execute_result"
    }
   ],
   "source": [
    "#host response time - está como object y tiene que estar como float (?) es tiempo\n",
    "df.host_response_time = pd.Categorical(df.host_response_time, ['within an hour','within a few hours',\n",
    "                                                              'within a day','a few days or more'],ordered=True)\n",
    "df.host_response_time.dtype"
   ]
  },
  {
   "cell_type": "code",
   "execution_count": 37,
   "metadata": {},
   "outputs": [],
   "source": [
    "#host total listings count - está como float y tiene que estar como integer.  Por el mismo motivo que arriba, al tener nulos se queda como float\n"
   ]
  },
  {
   "cell_type": "code",
   "execution_count": 38,
   "metadata": {},
   "outputs": [
    {
     "data": {
      "text/plain": [
       "205"
      ]
     },
     "execution_count": 38,
     "metadata": {},
     "output_type": "execute_result"
    }
   ],
   "source": [
    "#bedrooms - está en float y tiene que ser integer. Idem\n",
    "sum(df.bedrooms.isnull())"
   ]
  },
  {
   "cell_type": "code",
   "execution_count": 39,
   "metadata": {},
   "outputs": [
    {
     "data": {
      "text/plain": [
       "dtype('float64')"
      ]
     },
     "execution_count": 39,
     "metadata": {},
     "output_type": "execute_result"
    }
   ],
   "source": [
    "#price - está como object y tiene que ser float\n",
    "df.price = df.price.str.replace(\"$\",\"\")\n",
    "df.price = df.price.str.replace(\",\",\"\")\n",
    "df.price = df.price.astype(\"float64\")\n",
    "df.price.dtype"
   ]
  },
  {
   "cell_type": "code",
   "execution_count": 40,
   "metadata": {},
   "outputs": [],
   "source": [
    "#cleaning fee - está como object y tiene que ser float\n",
    "df.cleaning_fee = df.cleaning_fee.str.replace(\"$\",\"\")\n",
    "df.cleaning_fee = df.cleaning_fee.str.replace(\",\",\"\")\n"
   ]
  },
  {
   "cell_type": "code",
   "execution_count": 41,
   "metadata": {},
   "outputs": [
    {
     "data": {
      "text/plain": [
       "dtype('float64')"
      ]
     },
     "execution_count": 41,
     "metadata": {},
     "output_type": "execute_result"
    }
   ],
   "source": [
    "df.cleaning_fee = df.cleaning_fee.astype(\"float64\")\n",
    "df.cleaning_fee.dtype"
   ]
  },
  {
   "cell_type": "code",
   "execution_count": 42,
   "metadata": {},
   "outputs": [],
   "source": [
    "#Pasamos extra people a float\n",
    "df.extra_people = df.extra_people.str.replace(\"$\",\"\")\n",
    "df.extra_people = df.extra_people.str.replace(\",\",\"\")\n"
   ]
  },
  {
   "cell_type": "code",
   "execution_count": 43,
   "metadata": {
    "scrolled": true
   },
   "outputs": [
    {
     "data": {
      "text/plain": [
       "dtype('float64')"
      ]
     },
     "execution_count": 43,
     "metadata": {},
     "output_type": "execute_result"
    }
   ],
   "source": [
    "df.extra_people = df.extra_people.astype(\"float64\")\n",
    "df.extra_people.dtype"
   ]
  },
  {
   "cell_type": "code",
   "execution_count": 44,
   "metadata": {},
   "outputs": [
    {
     "data": {
      "text/plain": [
       "0         NaN\n",
       "1        1.00\n",
       "2        1.00\n",
       "3         NaN\n",
       "4         NaN\n",
       "5        1.00\n",
       "6        1.00\n",
       "7        1.00\n",
       "8         NaN\n",
       "9        1.00\n",
       "10       1.00\n",
       "11       1.00\n",
       "12       1.00\n",
       "13       1.00\n",
       "14        NaN\n",
       "15       1.00\n",
       "16       0.67\n",
       "17        NaN\n",
       "18        NaN\n",
       "19        NaN\n",
       "20       1.00\n",
       "21       1.00\n",
       "22       1.00\n",
       "23        NaN\n",
       "24        NaN\n",
       "25       0.94\n",
       "26       0.95\n",
       "27       0.94\n",
       "28       1.00\n",
       "29       1.00\n",
       "30       1.00\n",
       "31       1.00\n",
       "32        NaN\n",
       "33       1.00\n",
       "34       0.50\n",
       "35       0.94\n",
       "36        NaN\n",
       "37       1.00\n",
       "38       1.00\n",
       "39        NaN\n",
       "40        NaN\n",
       "41        NaN\n",
       "42       1.00\n",
       "43       1.00\n",
       "44       0.99\n",
       "45       1.00\n",
       "46        NaN\n",
       "47       1.00\n",
       "48       1.00\n",
       "49       1.00\n",
       "50       1.00\n",
       "51        NaN\n",
       "52       1.00\n",
       "53        NaN\n",
       "54        NaN\n",
       "55       0.94\n",
       "56        NaN\n",
       "57       1.00\n",
       "58       1.00\n",
       "59       1.00\n",
       "60       1.00\n",
       "61       1.00\n",
       "62       1.00\n",
       "63       1.00\n",
       "64        NaN\n",
       "65       1.00\n",
       "66       1.00\n",
       "67        NaN\n",
       "68       1.00\n",
       "69       1.00\n",
       "70       0.90\n",
       "71        NaN\n",
       "72       1.00\n",
       "73        NaN\n",
       "74        NaN\n",
       "75       0.97\n",
       "76        NaN\n",
       "77       1.00\n",
       "78        NaN\n",
       "79       0.82\n",
       "80       0.82\n",
       "81       1.00\n",
       "82        NaN\n",
       "83       1.00\n",
       "84       1.00\n",
       "85       1.00\n",
       "86       0.95\n",
       "87       1.00\n",
       "88        NaN\n",
       "89       1.00\n",
       "90       1.00\n",
       "91        NaN\n",
       "92       1.00\n",
       "93       0.80\n",
       "94       0.80\n",
       "95       1.00\n",
       "96        NaN\n",
       "97        NaN\n",
       "98       1.00\n",
       "99       1.00\n",
       "100      1.00\n",
       "101       NaN\n",
       "102      1.00\n",
       "103      1.00\n",
       "104      0.96\n",
       "105      1.00\n",
       "106      1.00\n",
       "107      1.00\n",
       "108      1.00\n",
       "109      1.00\n",
       "110      1.00\n",
       "111      1.00\n",
       "112      0.57\n",
       "113      0.94\n",
       "114      1.00\n",
       "115      1.00\n",
       "116      1.00\n",
       "117      1.00\n",
       "118       NaN\n",
       "119      1.00\n",
       "120      1.00\n",
       "121       NaN\n",
       "122       NaN\n",
       "123      1.00\n",
       "124      1.00\n",
       "125      1.00\n",
       "126      0.94\n",
       "127      1.00\n",
       "128      1.00\n",
       "129       NaN\n",
       "130      1.00\n",
       "131      1.00\n",
       "132       NaN\n",
       "133       NaN\n",
       "134      0.80\n",
       "135       NaN\n",
       "136       NaN\n",
       "137      1.00\n",
       "138      1.00\n",
       "139       NaN\n",
       "140      1.00\n",
       "141      1.00\n",
       "142      1.00\n",
       "143      1.00\n",
       "144      1.00\n",
       "145      1.00\n",
       "146      1.00\n",
       "147      1.00\n",
       "148      1.00\n",
       "149      1.00\n",
       "150      1.00\n",
       "151       NaN\n",
       "152       NaN\n",
       "153      1.00\n",
       "154       NaN\n",
       "155       NaN\n",
       "156      1.00\n",
       "157       NaN\n",
       "158      1.00\n",
       "159      1.00\n",
       "160      1.00\n",
       "161       NaN\n",
       "162      1.00\n",
       "163      0.94\n",
       "164      0.93\n",
       "165       NaN\n",
       "166      1.00\n",
       "167      1.00\n",
       "168      1.00\n",
       "169      1.00\n",
       "170      1.00\n",
       "171       NaN\n",
       "172      1.00\n",
       "173      0.95\n",
       "174      1.00\n",
       "175       NaN\n",
       "176      1.00\n",
       "177      1.00\n",
       "178      1.00\n",
       "179      1.00\n",
       "180       NaN\n",
       "181      1.00\n",
       "182      1.00\n",
       "183      1.00\n",
       "184      1.00\n",
       "185      1.00\n",
       "186      1.00\n",
       "187      1.00\n",
       "188      1.00\n",
       "189      1.00\n",
       "190       NaN\n",
       "191      1.00\n",
       "192      1.00\n",
       "193      0.99\n",
       "194      1.00\n",
       "195      1.00\n",
       "196      0.90\n",
       "197      1.00\n",
       "198      1.00\n",
       "199      1.00\n",
       "200      1.00\n",
       "201      1.00\n",
       "202      1.00\n",
       "203      1.00\n",
       "204      1.00\n",
       "205      1.00\n",
       "206      1.00\n",
       "207      1.00\n",
       "208      0.90\n",
       "209      0.90\n",
       "210      1.00\n",
       "211      1.00\n",
       "212      1.00\n",
       "213       NaN\n",
       "214      0.95\n",
       "215      0.99\n",
       "216      1.00\n",
       "217      1.00\n",
       "218      1.00\n",
       "219      1.00\n",
       "220      1.00\n",
       "221      0.00\n",
       "222      1.00\n",
       "223      1.00\n",
       "224      1.00\n",
       "225      1.00\n",
       "226      1.00\n",
       "227      1.00\n",
       "228      0.97\n",
       "229       NaN\n",
       "230       NaN\n",
       "231       NaN\n",
       "232      1.00\n",
       "233      1.00\n",
       "234      1.00\n",
       "235      1.00\n",
       "236      1.00\n",
       "237      1.00\n",
       "238      1.00\n",
       "239      1.00\n",
       "240      1.00\n",
       "241      1.00\n",
       "242       NaN\n",
       "243      1.00\n",
       "244      1.00\n",
       "245      0.83\n",
       "246      1.00\n",
       "247      1.00\n",
       "248      1.00\n",
       "249      1.00\n",
       "         ... \n",
       "16757    1.00\n",
       "16758    1.00\n",
       "16759    1.00\n",
       "16760    1.00\n",
       "16761    1.00\n",
       "16762    1.00\n",
       "16763    1.00\n",
       "16764    1.00\n",
       "16765    1.00\n",
       "16766    1.00\n",
       "16767    1.00\n",
       "16768    1.00\n",
       "16769    1.00\n",
       "16770    1.00\n",
       "16771    1.00\n",
       "16772    1.00\n",
       "16773    1.00\n",
       "16774    1.00\n",
       "16775    0.90\n",
       "16776    1.00\n",
       "16777     NaN\n",
       "16778     NaN\n",
       "16779    0.94\n",
       "16780     NaN\n",
       "16781    1.00\n",
       "16782    1.00\n",
       "16783    0.94\n",
       "16784    1.00\n",
       "16785    1.00\n",
       "16786    1.00\n",
       "16787    0.94\n",
       "16788    1.00\n",
       "16789    0.40\n",
       "16790    1.00\n",
       "16791    1.00\n",
       "16792    1.00\n",
       "16793    0.50\n",
       "16794    0.92\n",
       "16795    1.00\n",
       "16796    0.92\n",
       "16797    1.00\n",
       "16798    1.00\n",
       "16799    0.90\n",
       "16800    1.00\n",
       "16801    1.00\n",
       "16802    1.00\n",
       "16803    1.00\n",
       "16804    1.00\n",
       "16805    1.00\n",
       "16806    0.60\n",
       "16807    0.60\n",
       "16808    0.60\n",
       "16809    1.00\n",
       "16810    1.00\n",
       "16811    1.00\n",
       "16812    0.74\n",
       "16813    0.74\n",
       "16814     NaN\n",
       "16815     NaN\n",
       "16816    0.00\n",
       "16817    0.90\n",
       "16818    1.00\n",
       "16819    0.74\n",
       "16820    0.82\n",
       "16821    1.00\n",
       "16822    1.00\n",
       "16823     NaN\n",
       "16824    1.00\n",
       "16825    1.00\n",
       "16826    1.00\n",
       "16827    1.00\n",
       "16828    1.00\n",
       "16829    1.00\n",
       "16830    1.00\n",
       "16831    1.00\n",
       "16832    1.00\n",
       "16833    0.90\n",
       "16834    1.00\n",
       "16835    1.00\n",
       "16836    1.00\n",
       "16837    0.96\n",
       "16838     NaN\n",
       "16839    0.80\n",
       "16840     NaN\n",
       "16841     NaN\n",
       "16842    1.00\n",
       "16843    1.00\n",
       "16844    1.00\n",
       "16845    1.00\n",
       "16846    1.00\n",
       "16847    0.90\n",
       "16848     NaN\n",
       "16849    1.00\n",
       "16850    0.80\n",
       "16851    0.97\n",
       "16852     NaN\n",
       "16853    1.00\n",
       "16854    1.00\n",
       "16855    0.50\n",
       "16856    0.00\n",
       "16857    1.00\n",
       "16858    1.00\n",
       "16859    1.00\n",
       "16860    0.67\n",
       "16861    0.90\n",
       "16862    0.86\n",
       "16863     NaN\n",
       "16864    1.00\n",
       "16865    0.60\n",
       "16866    1.00\n",
       "16867    1.00\n",
       "16868    1.00\n",
       "16869    1.00\n",
       "16870    0.86\n",
       "16871    1.00\n",
       "16872    1.00\n",
       "16873    0.98\n",
       "16874    0.98\n",
       "16875    1.00\n",
       "16876    1.00\n",
       "16877    0.95\n",
       "16878    1.00\n",
       "16879    0.98\n",
       "16880    0.83\n",
       "16881    0.76\n",
       "16882    1.00\n",
       "16883    1.00\n",
       "16884    1.00\n",
       "16885    0.86\n",
       "16886    0.98\n",
       "16887    0.98\n",
       "16888    0.84\n",
       "16889    1.00\n",
       "16890    1.00\n",
       "16891     NaN\n",
       "16892    0.74\n",
       "16893    1.00\n",
       "16894    1.00\n",
       "16895    1.00\n",
       "16896    1.00\n",
       "16897    1.00\n",
       "16898     NaN\n",
       "16899    0.90\n",
       "16900    1.00\n",
       "16901    1.00\n",
       "16902    1.00\n",
       "16903    1.00\n",
       "16904     NaN\n",
       "16905    1.00\n",
       "16906    1.00\n",
       "16907    1.00\n",
       "16908    0.98\n",
       "16909    0.98\n",
       "16910    1.00\n",
       "16911     NaN\n",
       "16912     NaN\n",
       "16913    0.98\n",
       "16914    1.00\n",
       "16915    1.00\n",
       "16916    0.98\n",
       "16917    0.74\n",
       "16918    1.00\n",
       "16919    1.00\n",
       "16920    0.98\n",
       "16921    1.00\n",
       "16922    0.98\n",
       "16923    1.00\n",
       "16924    1.00\n",
       "16925    1.00\n",
       "16926    0.98\n",
       "16927    0.86\n",
       "16928    1.00\n",
       "16929    1.00\n",
       "16930    0.98\n",
       "16932    1.00\n",
       "16933    0.67\n",
       "16934    1.00\n",
       "16935    1.00\n",
       "16936    1.00\n",
       "16937    1.00\n",
       "16938    0.95\n",
       "16939    0.71\n",
       "16940     NaN\n",
       "16941    0.72\n",
       "16942    0.92\n",
       "16943    1.00\n",
       "16944     NaN\n",
       "16945    1.00\n",
       "16946     NaN\n",
       "16947    0.72\n",
       "16948    1.00\n",
       "16949    0.72\n",
       "16950    0.92\n",
       "16951    0.92\n",
       "16952    1.00\n",
       "16953    0.86\n",
       "16954    1.00\n",
       "16955    1.00\n",
       "16956    1.00\n",
       "16957    1.00\n",
       "16958    1.00\n",
       "16959    1.00\n",
       "16960    1.00\n",
       "16961    1.00\n",
       "16962    1.00\n",
       "16963    1.00\n",
       "16964    1.00\n",
       "16965    1.00\n",
       "16966    1.00\n",
       "16967     NaN\n",
       "16968    1.00\n",
       "16969     NaN\n",
       "16970     NaN\n",
       "16971    0.70\n",
       "16972    1.00\n",
       "16973     NaN\n",
       "16974    1.00\n",
       "16975    1.00\n",
       "16976    1.00\n",
       "16977    1.00\n",
       "16978    1.00\n",
       "16979    1.00\n",
       "16980     NaN\n",
       "16981    1.00\n",
       "16982    0.00\n",
       "16983    1.00\n",
       "16984    1.00\n",
       "16985    1.00\n",
       "16986    1.00\n",
       "16987    1.00\n",
       "16988    1.00\n",
       "16989    1.00\n",
       "16990    1.00\n",
       "16991    1.00\n",
       "16992    1.00\n",
       "16993    1.00\n",
       "16994    1.00\n",
       "16995    1.00\n",
       "16996     NaN\n",
       "16997    1.00\n",
       "16998    0.94\n",
       "16999     NaN\n",
       "17000    1.00\n",
       "17001    0.67\n",
       "17002     NaN\n",
       "17003    1.00\n",
       "17004    1.00\n",
       "17005    1.00\n",
       "17006    1.00\n",
       "17007    1.00\n",
       "Name: host_response_rate, Length: 396805, dtype: float64"
      ]
     },
     "execution_count": 44,
     "metadata": {},
     "output_type": "execute_result"
    }
   ],
   "source": [
    "df.host_response_rate"
   ]
  },
  {
   "cell_type": "code",
   "execution_count": 45,
   "metadata": {},
   "outputs": [
    {
     "data": {
      "text/plain": [
       "dtype('float64')"
      ]
     },
     "execution_count": 45,
     "metadata": {},
     "output_type": "execute_result"
    }
   ],
   "source": [
    "df.host_response_rate = df.host_response_rate.astype(\"float64\")\n",
    "df.host_response_rate.dtype"
   ]
  },
  {
   "cell_type": "code",
   "execution_count": 46,
   "metadata": {},
   "outputs": [],
   "source": [
    "df.host_response_rate = df.host_response_rate/100"
   ]
  },
  {
   "cell_type": "code",
   "execution_count": 47,
   "metadata": {},
   "outputs": [
    {
     "data": {
      "text/plain": [
       "True    396805\n",
       "Name: instant_bookable, dtype: int64"
      ]
     },
     "execution_count": 47,
     "metadata": {},
     "output_type": "execute_result"
    }
   ],
   "source": [
    "df.instant_bookable.value_counts()"
   ]
  },
  {
   "cell_type": "code",
   "execution_count": 48,
   "metadata": {},
   "outputs": [
    {
     "data": {
      "text/plain": [
       "accommodates                               int64\n",
       "amenities                                 object\n",
       "availability_30                            int64\n",
       "availability_365                           int64\n",
       "availability_60                            int64\n",
       "availability_90                            int64\n",
       "bathrooms                                float64\n",
       "bed_type                                  object\n",
       "bedrooms                                 float64\n",
       "beds                                     float64\n",
       "calculated_host_listings_count             int64\n",
       "cancellation_policy                     category\n",
       "city                                      object\n",
       "cleaning_fee                             float64\n",
       "description                               object\n",
       "extra_people                             float64\n",
       "first_review                      datetime64[ns]\n",
       "guests_included                            int64\n",
       "host_id                                    int64\n",
       "host_is_superhost                         object\n",
       "host_listings_count                      float64\n",
       "host_neighbourhood                        object\n",
       "host_response_rate                       float64\n",
       "host_response_time                      category\n",
       "host_since                        datetime64[ns]\n",
       "host_total_listings_count                float64\n",
       "id                                         int64\n",
       "instant_bookable                            bool\n",
       "last_review                       datetime64[ns]\n",
       "last_scraped                      datetime64[ns]\n",
       "latitude                                 float64\n",
       "license                                   object\n",
       "longitude                                float64\n",
       "maximum_nights_avg_ntm                   float64\n",
       "minimum_nights_avg_ntm                   float64\n",
       "name                                      object\n",
       "neighbourhood_cleansed                    object\n",
       "neighbourhood_group_cleansed              object\n",
       "number_of_reviews                          int64\n",
       "number_of_reviews_ltm                    float64\n",
       "price                                    float64\n",
       "property_type                             object\n",
       "requires_license                            bool\n",
       "review_scores_accuracy                   float64\n",
       "review_scores_checkin                    float64\n",
       "review_scores_cleanliness                float64\n",
       "review_scores_communication              float64\n",
       "review_scores_location                   float64\n",
       "review_scores_rating                     float64\n",
       "review_scores_value                      float64\n",
       "reviews_per_month                        float64\n",
       "room_type                               category\n",
       "dtype: object"
      ]
     },
     "execution_count": 48,
     "metadata": {},
     "output_type": "execute_result"
    }
   ],
   "source": [
    "df.dtypes"
   ]
  },
  {
   "cell_type": "code",
   "execution_count": 49,
   "metadata": {
    "scrolled": true
   },
   "outputs": [
    {
     "data": {
      "text/plain": [
       "dtype('O')"
      ]
     },
     "execution_count": 49,
     "metadata": {},
     "output_type": "execute_result"
    }
   ],
   "source": [
    "df.amenities.dtype"
   ]
  },
  {
   "cell_type": "markdown",
   "metadata": {},
   "source": [
    "Probamos a exportar una pequeña muestra del csv para probar la BD"
   ]
  },
  {
   "cell_type": "code",
   "execution_count": 50,
   "metadata": {},
   "outputs": [],
   "source": [
    "df[0:5].to_csv(\"Prueba.csv\",sep=\",\")"
   ]
  },
  {
   "cell_type": "code",
   "execution_count": 51,
   "metadata": {
    "scrolled": true
   },
   "outputs": [],
   "source": [
    "pd.set_option('display.max_rows', 500)\n",
    "pd.set_option('display.max_columns', 500)\n"
   ]
  },
  {
   "cell_type": "markdown",
   "metadata": {},
   "source": [
    "Sustituímos las comillas en las columnas description y name, ya que dan problemas al pasarlas a SQL."
   ]
  },
  {
   "cell_type": "code",
   "execution_count": 52,
   "metadata": {},
   "outputs": [],
   "source": [
    "df.description = df.description.str.replace(\"\\\"\",\"\")\n",
    "df.description = df.description.str.replace(\"\\'\",\"\")\n",
    "df.description = df.description.str.replace(\"-\",\" \")\n",
    "df.description = df.description.str.replace(\"\\\"\",\" \")                                "
   ]
  },
  {
   "cell_type": "code",
   "execution_count": 74,
   "metadata": {},
   "outputs": [],
   "source": [
    "df.name = df.name.str.replace(\"\\\"\",\"\")\n",
    "df.name = df.name.str.replace(\"\\'\",\"\")\n",
    "df.name = df.name.str.replace(\"-\",\" \")\n",
    "df.name = df.name.str.replace(\"\\\"\",\" \")"
   ]
  },
  {
   "cell_type": "markdown",
   "metadata": {},
   "source": [
    "Como la calidad del Wifi no es muy buena partimos el df en filas de 20000 o menos registros para poder importarlo por tramos."
   ]
  },
  {
   "cell_type": "code",
   "execution_count": 59,
   "metadata": {},
   "outputs": [],
   "source": [
    "def trameador(df,tramo):\n",
    "    tramo0 = tramo-tramo\n",
    "    df[tramo0:(tramo-tramo0)].to_csv(\"Fragmento020000\")\n",
    "trameador(df,20000)"
   ]
  },
  {
   "cell_type": "code",
   "execution_count": 65,
   "metadata": {},
   "outputs": [
    {
     "data": {
      "text/plain": [
       "20"
      ]
     },
     "execution_count": 65,
     "metadata": {},
     "output_type": "execute_result"
    }
   ],
   "source": [
    "(df.shape[0]//20000)+1"
   ]
  },
  {
   "cell_type": "code",
   "execution_count": 54,
   "metadata": {},
   "outputs": [],
   "source": [
    "df.to_csv(\"AirBnb_Madrid_Lisboa.csv\",sep=\",\")"
   ]
  }
 ],
 "metadata": {
  "kernelspec": {
   "display_name": "Python 3",
   "language": "python",
   "name": "python3"
  },
  "language_info": {
   "codemirror_mode": {
    "name": "ipython",
    "version": 3
   },
   "file_extension": ".py",
   "mimetype": "text/x-python",
   "name": "python",
   "nbconvert_exporter": "python",
   "pygments_lexer": "ipython3",
   "version": "3.7.1"
  }
 },
 "nbformat": 4,
 "nbformat_minor": 2
}
