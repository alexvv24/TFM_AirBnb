{
 "cells": [
  {
   "cell_type": "markdown",
   "metadata": {},
   "source": [
    "## Limpieza de los datos de *AirBnb*"
   ]
  },
  {
   "cell_type": "markdown",
   "metadata": {},
   "source": [
    "En la [web](http://insideairbnb.com/get-the-data.html) tenemos 7 archivos diferentes sobre los establecimientos AirBnb en Madrid.  Estos archivos son:\n",
    "* listings.csv.gz \n",
    "* calendar.csv.gz \n",
    "* reviews.csv.gz\n",
    "* listings.csv\n",
    "* reviews.csv\n",
    "* neighbourhoods.csv\n",
    "* neighbourhoods.geojson\n",
    "\n",
    "Los que tienen la extensión .gz son datos sin agrupar que vienen en formato comprimido mientras que los que no la tienen son datos agregados.  Los dos últimos tienen la función de geolocalizar los apartamentos en el mapa."
   ]
  },
  {
   "cell_type": "code",
   "execution_count": 10,
   "metadata": {},
   "outputs": [],
   "source": [
    "import pandas as pd\n",
    "import matplotlib.pyplot as plt\n",
    "import seaborn as sns\n",
    "import re\n",
    "%matplotlib inline"
   ]
  },
  {
   "cell_type": "code",
   "execution_count": 11,
   "metadata": {},
   "outputs": [],
   "source": [
    "df_feb = pd.read_csv('Data/Lisboa/listings0.csv.gz',compression='gzip',low_memory=False)"
   ]
  },
  {
   "cell_type": "code",
   "execution_count": 12,
   "metadata": {
    "scrolled": false
   },
   "outputs": [
    {
     "data": {
      "text/plain": [
       "(22823, 106)"
      ]
     },
     "execution_count": 12,
     "metadata": {},
     "output_type": "execute_result"
    }
   ],
   "source": [
    "#vemos la estructura de los datos \n",
    "df_feb.shape"
   ]
  },
  {
   "cell_type": "code",
   "execution_count": 13,
   "metadata": {
    "scrolled": false
   },
   "outputs": [
    {
     "data": {
      "text/html": [
       "<div>\n",
       "<style scoped>\n",
       "    .dataframe tbody tr th:only-of-type {\n",
       "        vertical-align: middle;\n",
       "    }\n",
       "\n",
       "    .dataframe tbody tr th {\n",
       "        vertical-align: top;\n",
       "    }\n",
       "\n",
       "    .dataframe thead th {\n",
       "        text-align: right;\n",
       "    }\n",
       "</style>\n",
       "<table border=\"1\" class=\"dataframe\">\n",
       "  <thead>\n",
       "    <tr style=\"text-align: right;\">\n",
       "      <th></th>\n",
       "      <th>id</th>\n",
       "      <th>listing_url</th>\n",
       "      <th>scrape_id</th>\n",
       "      <th>last_scraped</th>\n",
       "      <th>name</th>\n",
       "      <th>summary</th>\n",
       "      <th>space</th>\n",
       "      <th>description</th>\n",
       "      <th>experiences_offered</th>\n",
       "      <th>neighborhood_overview</th>\n",
       "      <th>...</th>\n",
       "      <th>instant_bookable</th>\n",
       "      <th>is_business_travel_ready</th>\n",
       "      <th>cancellation_policy</th>\n",
       "      <th>require_guest_profile_picture</th>\n",
       "      <th>require_guest_phone_verification</th>\n",
       "      <th>calculated_host_listings_count</th>\n",
       "      <th>calculated_host_listings_count_entire_homes</th>\n",
       "      <th>calculated_host_listings_count_private_rooms</th>\n",
       "      <th>calculated_host_listings_count_shared_rooms</th>\n",
       "      <th>reviews_per_month</th>\n",
       "    </tr>\n",
       "  </thead>\n",
       "  <tbody>\n",
       "    <tr>\n",
       "      <th>0</th>\n",
       "      <td>24056</td>\n",
       "      <td>https://www.airbnb.com/rooms/24056</td>\n",
       "      <td>20190216041211</td>\n",
       "      <td>2019-02-16</td>\n",
       "      <td>Linda-a-Velha</td>\n",
       "      <td>NaN</td>\n",
       "      <td>A comfortable apartment with pool during the s...</td>\n",
       "      <td>A comfortable apartment with pool during the s...</td>\n",
       "      <td>none</td>\n",
       "      <td>NaN</td>\n",
       "      <td>...</td>\n",
       "      <td>f</td>\n",
       "      <td>f</td>\n",
       "      <td>strict_14_with_grace_period</td>\n",
       "      <td>f</td>\n",
       "      <td>f</td>\n",
       "      <td>1</td>\n",
       "      <td>0</td>\n",
       "      <td>1</td>\n",
       "      <td>0</td>\n",
       "      <td>NaN</td>\n",
       "    </tr>\n",
       "    <tr>\n",
       "      <th>1</th>\n",
       "      <td>25659</td>\n",
       "      <td>https://www.airbnb.com/rooms/25659</td>\n",
       "      <td>20190216041211</td>\n",
       "      <td>2019-02-16</td>\n",
       "      <td>Sunny,  Alfama  Sleeps 3 - Coeur d'Alfama</td>\n",
       "      <td>Heart of Alfama! Center of Lisbon.  Sunny Char...</td>\n",
       "      <td>Charming sunny apartment in the heart of Alfam...</td>\n",
       "      <td>Heart of Alfama! Center of Lisbon.  Sunny Char...</td>\n",
       "      <td>none</td>\n",
       "      <td>Alfama is the oldest and most picturesque quar...</td>\n",
       "      <td>...</td>\n",
       "      <td>t</td>\n",
       "      <td>f</td>\n",
       "      <td>moderate</td>\n",
       "      <td>f</td>\n",
       "      <td>f</td>\n",
       "      <td>1</td>\n",
       "      <td>1</td>\n",
       "      <td>0</td>\n",
       "      <td>0</td>\n",
       "      <td>1.64</td>\n",
       "    </tr>\n",
       "    <tr>\n",
       "      <th>2</th>\n",
       "      <td>26993</td>\n",
       "      <td>https://www.airbnb.com/rooms/26993</td>\n",
       "      <td>20190216041211</td>\n",
       "      <td>2019-02-16</td>\n",
       "      <td>Small nice apartment in the center</td>\n",
       "      <td>NaN</td>\n",
       "      <td>Apartment for single or couple, 5 minutes walk...</td>\n",
       "      <td>Apartment for single or couple, 5 minutes walk...</td>\n",
       "      <td>none</td>\n",
       "      <td>this is one of the best neighborhoods in Lisbo...</td>\n",
       "      <td>...</td>\n",
       "      <td>f</td>\n",
       "      <td>f</td>\n",
       "      <td>strict_14_with_grace_period</td>\n",
       "      <td>f</td>\n",
       "      <td>f</td>\n",
       "      <td>1</td>\n",
       "      <td>1</td>\n",
       "      <td>0</td>\n",
       "      <td>0</td>\n",
       "      <td>0.06</td>\n",
       "    </tr>\n",
       "    <tr>\n",
       "      <th>3</th>\n",
       "      <td>28066</td>\n",
       "      <td>https://www.airbnb.com/rooms/28066</td>\n",
       "      <td>20190216041211</td>\n",
       "      <td>2019-02-16</td>\n",
       "      <td>ear the birds</td>\n",
       "      <td>NaN</td>\n",
       "      <td>traditional farm house in a quiet place where ...</td>\n",
       "      <td>traditional farm house in a quiet place where ...</td>\n",
       "      <td>none</td>\n",
       "      <td>NaN</td>\n",
       "      <td>...</td>\n",
       "      <td>f</td>\n",
       "      <td>f</td>\n",
       "      <td>flexible</td>\n",
       "      <td>f</td>\n",
       "      <td>f</td>\n",
       "      <td>1</td>\n",
       "      <td>0</td>\n",
       "      <td>1</td>\n",
       "      <td>0</td>\n",
       "      <td>NaN</td>\n",
       "    </tr>\n",
       "    <tr>\n",
       "      <th>4</th>\n",
       "      <td>29138</td>\n",
       "      <td>https://www.airbnb.com/rooms/29138</td>\n",
       "      <td>20190216041211</td>\n",
       "      <td>2019-02-16</td>\n",
       "      <td>Room for rent in shared house</td>\n",
       "      <td>NaN</td>\n",
       "      <td>05 minutes from city center by subway, 10 minu...</td>\n",
       "      <td>05 minutes from city center by subway, 10 minu...</td>\n",
       "      <td>none</td>\n",
       "      <td>NaN</td>\n",
       "      <td>...</td>\n",
       "      <td>f</td>\n",
       "      <td>f</td>\n",
       "      <td>flexible</td>\n",
       "      <td>f</td>\n",
       "      <td>f</td>\n",
       "      <td>1</td>\n",
       "      <td>0</td>\n",
       "      <td>1</td>\n",
       "      <td>0</td>\n",
       "      <td>NaN</td>\n",
       "    </tr>\n",
       "  </tbody>\n",
       "</table>\n",
       "<p>5 rows × 106 columns</p>\n",
       "</div>"
      ],
      "text/plain": [
       "      id                         listing_url       scrape_id last_scraped  \\\n",
       "0  24056  https://www.airbnb.com/rooms/24056  20190216041211   2019-02-16   \n",
       "1  25659  https://www.airbnb.com/rooms/25659  20190216041211   2019-02-16   \n",
       "2  26993  https://www.airbnb.com/rooms/26993  20190216041211   2019-02-16   \n",
       "3  28066  https://www.airbnb.com/rooms/28066  20190216041211   2019-02-16   \n",
       "4  29138  https://www.airbnb.com/rooms/29138  20190216041211   2019-02-16   \n",
       "\n",
       "                                        name  \\\n",
       "0                              Linda-a-Velha   \n",
       "1  Sunny,  Alfama  Sleeps 3 - Coeur d'Alfama   \n",
       "2         Small nice apartment in the center   \n",
       "3                              ear the birds   \n",
       "4              Room for rent in shared house   \n",
       "\n",
       "                                             summary  \\\n",
       "0                                                NaN   \n",
       "1  Heart of Alfama! Center of Lisbon.  Sunny Char...   \n",
       "2                                                NaN   \n",
       "3                                                NaN   \n",
       "4                                                NaN   \n",
       "\n",
       "                                               space  \\\n",
       "0  A comfortable apartment with pool during the s...   \n",
       "1  Charming sunny apartment in the heart of Alfam...   \n",
       "2  Apartment for single or couple, 5 minutes walk...   \n",
       "3  traditional farm house in a quiet place where ...   \n",
       "4  05 minutes from city center by subway, 10 minu...   \n",
       "\n",
       "                                         description experiences_offered  \\\n",
       "0  A comfortable apartment with pool during the s...                none   \n",
       "1  Heart of Alfama! Center of Lisbon.  Sunny Char...                none   \n",
       "2  Apartment for single or couple, 5 minutes walk...                none   \n",
       "3  traditional farm house in a quiet place where ...                none   \n",
       "4  05 minutes from city center by subway, 10 minu...                none   \n",
       "\n",
       "                               neighborhood_overview        ...          \\\n",
       "0                                                NaN        ...           \n",
       "1  Alfama is the oldest and most picturesque quar...        ...           \n",
       "2  this is one of the best neighborhoods in Lisbo...        ...           \n",
       "3                                                NaN        ...           \n",
       "4                                                NaN        ...           \n",
       "\n",
       "  instant_bookable is_business_travel_ready          cancellation_policy  \\\n",
       "0                f                        f  strict_14_with_grace_period   \n",
       "1                t                        f                     moderate   \n",
       "2                f                        f  strict_14_with_grace_period   \n",
       "3                f                        f                     flexible   \n",
       "4                f                        f                     flexible   \n",
       "\n",
       "  require_guest_profile_picture require_guest_phone_verification  \\\n",
       "0                             f                                f   \n",
       "1                             f                                f   \n",
       "2                             f                                f   \n",
       "3                             f                                f   \n",
       "4                             f                                f   \n",
       "\n",
       "   calculated_host_listings_count  \\\n",
       "0                               1   \n",
       "1                               1   \n",
       "2                               1   \n",
       "3                               1   \n",
       "4                               1   \n",
       "\n",
       "   calculated_host_listings_count_entire_homes  \\\n",
       "0                                            0   \n",
       "1                                            1   \n",
       "2                                            1   \n",
       "3                                            0   \n",
       "4                                            0   \n",
       "\n",
       "  calculated_host_listings_count_private_rooms  \\\n",
       "0                                            1   \n",
       "1                                            0   \n",
       "2                                            0   \n",
       "3                                            1   \n",
       "4                                            1   \n",
       "\n",
       "   calculated_host_listings_count_shared_rooms  reviews_per_month  \n",
       "0                                            0                NaN  \n",
       "1                                            0               1.64  \n",
       "2                                            0               0.06  \n",
       "3                                            0                NaN  \n",
       "4                                            0                NaN  \n",
       "\n",
       "[5 rows x 106 columns]"
      ]
     },
     "execution_count": 13,
     "metadata": {},
     "output_type": "execute_result"
    }
   ],
   "source": [
    "#Todas las columnas están en minúsculas y no hay espacios\n",
    "df_feb.head()"
   ]
  },
  {
   "cell_type": "markdown",
   "metadata": {},
   "source": [
    "El **primer criterio** utilizado para simplificar la información contenida en la tabla es el de encontrar aquellas columnas prescindibles."
   ]
  },
  {
   "cell_type": "code",
   "execution_count": 14,
   "metadata": {},
   "outputs": [],
   "source": [
    "#Comprobamos chequeando la URL que significa cada columna y eliminamos las que son solo de consulta, \n",
    "\n",
    "a_borrar_consulta = ['listing_url','host_url']\n",
    "\n",
    "#campos de texto sin relevancia, variables redundantes o URL`s que no nos sirven para el análisis. \n",
    "#Normalmente los campos de texto no vienen predeterminados por AirBnb y por tanto no tienen formato establecido.\n",
    "\n",
    "a_borrar_texto = ['summary','space','neighborhood_overview','notes'\n",
    "                     ,'transit','access','interaction','house_rules']\n",
    "a_borrar_redundantes = ['scrape_id','calendar_last_scraped','jurisdiction_names','country'\n",
    "                        ,'country_code','street','market']\n",
    "a_borrar_urls = ['thumbnail_url','picture_url','medium_url','xl_picture_url','host_thumbnail_url','host_picture_url']\n",
    "\n",
    "#Las siguientes columnas son eliminadas por el desconocimiento del método de cálculo o por no comprender que significan\n",
    "\n",
    "a_borrar_desconocidas = ['is_location_exact','maximum_maximum_nights','maximum_minimum_nights','minimum_minimum_nights'\n",
    "                        ,'minimum_minimum_nights','minimum_maximum_nights','is_business_travel_ready',\n",
    "                         'host_verifications','host_identity_verified']\n",
    "#Las siguientes hacen referencia al método de scrapping o están condicionadas por el momento concreto en el que se hizo\n",
    "\n",
    "a_borrar_scrapping = ['maximum_nights','minimum_nights','calendar_updated','has_availability']\n",
    "\n",
    "#Por último, estos requerimientos no son necesarios:\n",
    "\n",
    "a_borrar_irrelevantes = ['require_guest_profile_picture','require_guest_phone_verification']"
   ]
  },
  {
   "cell_type": "code",
   "execution_count": 15,
   "metadata": {},
   "outputs": [
    {
     "data": {
      "text/plain": [
       "(22823, 71)"
      ]
     },
     "execution_count": 15,
     "metadata": {},
     "output_type": "execute_result"
    }
   ],
   "source": [
    "#Juntamos todas las columnas, las eliminamos y comprobamos cuánto se han reducido\n",
    "Useless = a_borrar_texto+a_borrar_redundantes+a_borrar_urls+a_borrar_desconocidas+a_borrar_scrapping+a_borrar_irrelevantes\n",
    "df_feb.drop(Useless,axis=1,inplace=True)\n",
    "df_feb.shape\n"
   ]
  },
  {
   "cell_type": "code",
   "execution_count": null,
   "metadata": {},
   "outputs": [],
   "source": [
    "df.loc[df.calc]"
   ]
  },
  {
   "cell_type": "markdown",
   "metadata": {},
   "source": [
    "El **segundo criterio** para reducir las dimensiones es eliminar aquellas columnas que contengan al menos un 30% de nulos, ya que no serán útiles con tanta información perdida."
   ]
  },
  {
   "cell_type": "code",
   "execution_count": 7,
   "metadata": {
    "scrolled": true
   },
   "outputs": [
    {
     "data": {
      "image/png": "[encoded data removed]",
      "text/plain": [
       "<Figure size 1584x504 with 1 Axes>"
      ]
     },
     "metadata": {
      "needs_background": "light"
     },
     "output_type": "display_data"
    }
   ],
   "source": [
    "#Representamos gráficamente el % de nulos de las columnas restantes\n",
    "missing = df_feb.isnull().sum()/df_feb.shape[0]\n",
    "ax = missing.plot(kind='bar',figsize=(22,7))\n",
    "ax.set_xlabel('columnas',fontsize=18)\n",
    "ax.set_ylabel('% fatos que faltan',fontsize=18)\n",
    "ax.set_title('Selección de columnas',fontsize=22)\n",
    "plt.show()\n"
   ]
  },
  {
   "cell_type": "code",
   "execution_count": null,
   "metadata": {},
   "outputs": [],
   "source": [
    "df.loc[df.calc]"
   ]
  },
  {
   "cell_type": "code",
   "execution_count": null,
   "metadata": {},
   "outputs": [],
   "source": [
    "nulos_feb = missing.loc[missing > 0.3].index\n",
    "nulos_lista_feb = list(nulos_feb)\n",
    "nulos_lista_feb"
   ]
  },
  {
   "cell_type": "code",
   "execution_count": null,
   "metadata": {},
   "outputs": [],
   "source": [
    "#Tenemos 62 columnas para realizar el análisis, pudiendo ser reducidas en el futuro en caso de ser considerado.\n",
    "df_feb.drop(nulos_lista_feb, axis = 1, inplace = True)\n",
    "df_feb.shape"
   ]
  },
  {
   "cell_type": "code",
   "execution_count": null,
   "metadata": {
    "scrolled": true
   },
   "outputs": [],
   "source": [
    "#Obtenemos el % de nulos para cada periodo en Madrid, la segunda parte de la función se utiliza\n",
    "#para eliminar aquellos campos que no se usaban en el momento del scrapping.\n",
    "def saca_nulos(file):\n",
    "    try:\n",
    "        df_month = pd.read_csv(file,compression='gzip',low_memory=False)\n",
    "        global Useless\n",
    "        df_month.drop(Useless,axis=1,inplace = True)\n",
    "        missing = df_month.isnull().sum()/df_month.shape[0]\n",
    "        nulos_month = missing.loc[missing > 0.3].index\n",
    "        return list(nulos_month)\n",
    "    except:\n",
    "        df_month = pd.read_csv(file,compression='gzip',low_memory=False)\n",
    "        global a_borrar_desconocidas\n",
    "        a_borrar_desconocidas = ['is_location_exact','is_business_travel_ready',\n",
    "                         'host_verifications','host_identity_verified']\n",
    "        Useless = a_borrar_texto+a_borrar_redundantes+a_borrar_urls+a_borrar_desconocidas+a_borrar_scrapping+a_borrar_irrelevantes\n",
    "        df_month.drop(Useless,axis=1,inplace = True)\n",
    "        missing = df_month.isnull().sum()/df_month.shape[0]\n",
    "        nulos_month = missing.loc[missing > 0.3].index\n",
    "        return list(nulos_month)\n"
   ]
  },
  {
   "cell_type": "code",
   "execution_count": null,
   "metadata": {},
   "outputs": [],
   "source": [
    "filenames = ['Data/Lisboa/listings0.csv.gz','Data/Lisboa/listings1.csv.gz',\n",
    "             'Data/Lisboa/listings2.csv.gz','Data/Lisboa/listings3.csv.gz',\n",
    "             'Data/Lisboa/listings4.csv.gz','Data/Lisboa/listings5.csv.gz',\n",
    "             'Data/Lisboa/listings6.csv.gz','Data/Lisboa/listings7.csv.gz',\n",
    "             'Data/Lisboa/listings8.csv.gz','Data/Lisboa/listings9.csv.gz']\n",
    "months = ['ene','dic','oct','sep','ago','jul','may','abr','ene']\n"
   ]
  },
  {
   "cell_type": "code",
   "execution_count": null,
   "metadata": {},
   "outputs": [],
   "source": [
    "lista_nulos_por_periodo = []\n",
    "for f in filenames:\n",
    "    a = saca_nulos(f)\n",
    "    lista_nulos_por_periodo.append(a)\n"
   ]
  },
  {
   "cell_type": "code",
   "execution_count": null,
   "metadata": {
    "scrolled": true
   },
   "outputs": [],
   "source": [
    "#Comprobamos que nos devuelve una lista de listas dividida por meses\n",
    "lista_nulos_por_periodo"
   ]
  },
  {
   "cell_type": "code",
   "execution_count": null,
   "metadata": {},
   "outputs": [],
   "source": [
    "lista_nulos_por_periodo[0]"
   ]
  },
  {
   "cell_type": "code",
   "execution_count": null,
   "metadata": {
    "scrolled": true
   },
   "outputs": [],
   "source": [
    "#Como lo que nos interesa es borrar aquellas columnas que han sido más de un 30% nulas \n",
    "#debemos obtener los valores únicos en la lista\n",
    "lista_demasiados_nulos = []\n",
    "for i in range(len(filenames)):\n",
    "    for x in lista_nulos_por_periodo[i]:\n",
    "        if x not in lista_demasiados_nulos:\n",
    "            lista_demasiados_nulos.append(x)"
   ]
  },
  {
   "cell_type": "code",
   "execution_count": null,
   "metadata": {},
   "outputs": [],
   "source": [
    "#Estas son las columnas que borraremos de cualquier periodo a analizar(en Madrid) para que los datos sean consistentes\n",
    "lista_demasiados_nulos"
   ]
  },
  {
   "cell_type": "code",
   "execution_count": null,
   "metadata": {
    "scrolled": true
   },
   "outputs": [],
   "source": [
    "pd.set_option('display.max_rows', 500)\n",
    "pd.set_option('display.max_columns', 500)\n",
    "pd.set_option('display.width', 1000)\n",
    "df_feb.head()"
   ]
  },
  {
   "cell_type": "code",
   "execution_count": null,
   "metadata": {},
   "outputs": [],
   "source": [
    "#Pasamos las fechas de formato texto a fecha\n",
    "df_feb.last_scraped = pd.to_datetime(df_feb.last_scraped)\n",
    "df_feb.host_since = pd.to_datetime(df_feb.host_since)\n",
    "df_feb.first_review = pd.to_datetime(df_feb.first_review)\n",
    "df_feb.last_review = pd.to_datetime(df_feb.last_review)\n",
    "df_feb.last_scraped.dtype"
   ]
  },
  {
   "cell_type": "code",
   "execution_count": null,
   "metadata": {},
   "outputs": [],
   "source": [
    "#Reemplazamos valores de la tabla por otros identificables\n",
    "nulo_escondido = ['experiences_offered']"
   ]
  },
  {
   "cell_type": "code",
   "execution_count": null,
   "metadata": {},
   "outputs": [],
   "source": [
    "df_feb.drop(nulo_escondido, axis=1,inplace=True)"
   ]
  },
  {
   "cell_type": "code",
   "execution_count": null,
   "metadata": {},
   "outputs": [],
   "source": [
    "df_feb.shape"
   ]
  },
  {
   "cell_type": "code",
   "execution_count": null,
   "metadata": {},
   "outputs": [],
   "source": [
    "df_feb.zipcode.value_counts(dropna = False)"
   ]
  }
 ],
 "metadata": {
  "kernelspec": {
   "display_name": "Python 3",
   "language": "python",
   "name": "python3"
  },
  "language_info": {
   "codemirror_mode": {
    "name": "ipython",
    "version": 3
   },
   "file_extension": ".py",
   "mimetype": "text/x-python",
   "name": "python",
   "nbconvert_exporter": "python",
   "pygments_lexer": "ipython3",
   "version": "3.7.1"
  }
 },
 "nbformat": 4,
 "nbformat_minor": 2
}
