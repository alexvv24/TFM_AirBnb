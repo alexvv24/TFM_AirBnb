{
 "cells": [
  {
   "cell_type": "markdown",
   "metadata": {},
   "source": [
    "## Limpieza de los datos de *AirBnb*"
   ]
  },
  {
   "cell_type": "markdown",
   "metadata": {},
   "source": [
    "En la [web](http://insideairbnb.com/get-the-data.html) tenemos 7 archivos diferentes sobre los establecimientos AirBnb en Madrid.  Estos archivos son:\n",
    "* listings.csv.gz \n",
    "* calendar.csv.gz \n",
    "* reviews.csv.gz\n",
    "* listings.csv\n",
    "* reviews.csv\n",
    "* neighbourhoods.csv\n",
    "* neighbourhoods.geojson\n",
    "\n",
    "Los que tienen la extensión .gz son datos sin agrupar que vienen en formato comprimido mientras que los que no la tienen son datos agregados.  Los dos últimos tienen la función de geolocalizar los apartamentos en el mapa."
   ]
  },
  {
   "cell_type": "code",
   "execution_count": 1,
   "metadata": {},
   "outputs": [],
   "source": [
    "import pandas as pd\n",
    "import matplotlib.pyplot as plt\n",
    "import seaborn as sns\n",
    "import re\n",
    "%matplotlib inline"
   ]
  },
  {
   "cell_type": "code",
   "execution_count": 2,
   "metadata": {},
   "outputs": [],
   "source": [
    "df_feb = pd.read_csv('Data/Madrid/listings0.csv.gz',compression='gzip',low_memory=False)"
   ]
  },
  {
   "cell_type": "code",
   "execution_count": 3,
   "metadata": {
    "scrolled": false
   },
   "outputs": [
    {
     "data": {
      "text/plain": [
       "(17358, 106)"
      ]
     },
     "execution_count": 3,
     "metadata": {},
     "output_type": "execute_result"
    }
   ],
   "source": [
    "#vemos la estructura de los datos \n",
    "df_feb.shape"
   ]
  },
  {
   "cell_type": "code",
   "execution_count": 4,
   "metadata": {
    "scrolled": false
   },
   "outputs": [
    {
     "data": {
      "text/html": [
       "<div>\n",
       "<style scoped>\n",
       "    .dataframe tbody tr th:only-of-type {\n",
       "        vertical-align: middle;\n",
       "    }\n",
       "\n",
       "    .dataframe tbody tr th {\n",
       "        vertical-align: top;\n",
       "    }\n",
       "\n",
       "    .dataframe thead th {\n",
       "        text-align: right;\n",
       "    }\n",
       "</style>\n",
       "<table border=\"1\" class=\"dataframe\">\n",
       "  <thead>\n",
       "    <tr style=\"text-align: right;\">\n",
       "      <th></th>\n",
       "      <th>id</th>\n",
       "      <th>listing_url</th>\n",
       "      <th>scrape_id</th>\n",
       "      <th>last_scraped</th>\n",
       "      <th>name</th>\n",
       "      <th>summary</th>\n",
       "      <th>space</th>\n",
       "      <th>description</th>\n",
       "      <th>experiences_offered</th>\n",
       "      <th>neighborhood_overview</th>\n",
       "      <th>...</th>\n",
       "      <th>instant_bookable</th>\n",
       "      <th>is_business_travel_ready</th>\n",
       "      <th>cancellation_policy</th>\n",
       "      <th>require_guest_profile_picture</th>\n",
       "      <th>require_guest_phone_verification</th>\n",
       "      <th>calculated_host_listings_count</th>\n",
       "      <th>calculated_host_listings_count_entire_homes</th>\n",
       "      <th>calculated_host_listings_count_private_rooms</th>\n",
       "      <th>calculated_host_listings_count_shared_rooms</th>\n",
       "      <th>reviews_per_month</th>\n",
       "    </tr>\n",
       "  </thead>\n",
       "  <tbody>\n",
       "    <tr>\n",
       "      <th>0</th>\n",
       "      <td>6369</td>\n",
       "      <td>https://www.airbnb.com/rooms/6369</td>\n",
       "      <td>20190206175658</td>\n",
       "      <td>2019-02-06</td>\n",
       "      <td>Rooftop terrace room with ensuite bathroom, Airc.</td>\n",
       "      <td>Atico en la calle Principe de Vergara, con bañ...</td>\n",
       "      <td>BETTER THAN A HOTEL.Upscale neighboorhood (Met...</td>\n",
       "      <td>BETTER THAN A HOTEL.Upscale neighboorhood (Met...</td>\n",
       "      <td>none</td>\n",
       "      <td>Nice and definitely  non touristic neighborhoo...</td>\n",
       "      <td>...</td>\n",
       "      <td>f</td>\n",
       "      <td>f</td>\n",
       "      <td>flexible</td>\n",
       "      <td>f</td>\n",
       "      <td>f</td>\n",
       "      <td>1</td>\n",
       "      <td>0</td>\n",
       "      <td>1</td>\n",
       "      <td>0</td>\n",
       "      <td>0.55</td>\n",
       "    </tr>\n",
       "    <tr>\n",
       "      <th>1</th>\n",
       "      <td>21853</td>\n",
       "      <td>https://www.airbnb.com/rooms/21853</td>\n",
       "      <td>20190206175658</td>\n",
       "      <td>2019-02-06</td>\n",
       "      <td>Bright and airy room</td>\n",
       "      <td>We have a quiet and sunny room with a good vie...</td>\n",
       "      <td>I am living in a nice flat near the centre of ...</td>\n",
       "      <td>We have a quiet and sunny room with a good vie...</td>\n",
       "      <td>none</td>\n",
       "      <td>We live in a leafy neighbourhood with plenty o...</td>\n",
       "      <td>...</td>\n",
       "      <td>f</td>\n",
       "      <td>f</td>\n",
       "      <td>strict_14_with_grace_period</td>\n",
       "      <td>f</td>\n",
       "      <td>f</td>\n",
       "      <td>2</td>\n",
       "      <td>0</td>\n",
       "      <td>2</td>\n",
       "      <td>0</td>\n",
       "      <td>0.63</td>\n",
       "    </tr>\n",
       "    <tr>\n",
       "      <th>2</th>\n",
       "      <td>24836</td>\n",
       "      <td>https://www.airbnb.com/rooms/24836</td>\n",
       "      <td>20190206175658</td>\n",
       "      <td>2019-02-06</td>\n",
       "      <td>Select the Madrid more \"cool\".</td>\n",
       "      <td>Apartamento céntrico junto a Gran Vía (VT-296)...</td>\n",
       "      <td>Select the Madrid more \"cool\" : 70 m, 2 bedroo...</td>\n",
       "      <td>Select the Madrid more \"cool\" : 70 m, 2 bedroo...</td>\n",
       "      <td>none</td>\n",
       "      <td>Cosmopolita, lleno de locales de moda, restaur...</td>\n",
       "      <td>...</td>\n",
       "      <td>f</td>\n",
       "      <td>f</td>\n",
       "      <td>moderate</td>\n",
       "      <td>f</td>\n",
       "      <td>f</td>\n",
       "      <td>1</td>\n",
       "      <td>1</td>\n",
       "      <td>0</td>\n",
       "      <td>0</td>\n",
       "      <td>0.56</td>\n",
       "    </tr>\n",
       "    <tr>\n",
       "      <th>3</th>\n",
       "      <td>26823</td>\n",
       "      <td>https://www.airbnb.com/rooms/26823</td>\n",
       "      <td>20190206175658</td>\n",
       "      <td>2019-02-06</td>\n",
       "      <td>Roon for two people</td>\n",
       "      <td>NaN</td>\n",
       "      <td>Room for two person with dressing room and bat...</td>\n",
       "      <td>Room for two person with dressing room and bat...</td>\n",
       "      <td>none</td>\n",
       "      <td>NaN</td>\n",
       "      <td>...</td>\n",
       "      <td>f</td>\n",
       "      <td>f</td>\n",
       "      <td>flexible</td>\n",
       "      <td>f</td>\n",
       "      <td>f</td>\n",
       "      <td>2</td>\n",
       "      <td>0</td>\n",
       "      <td>2</td>\n",
       "      <td>0</td>\n",
       "      <td>0.28</td>\n",
       "    </tr>\n",
       "    <tr>\n",
       "      <th>4</th>\n",
       "      <td>26825</td>\n",
       "      <td>https://www.airbnb.com/rooms/26825</td>\n",
       "      <td>20190206175658</td>\n",
       "      <td>2019-02-06</td>\n",
       "      <td>Single Room whith private Bathroom</td>\n",
       "      <td>Nice and cozy roon for one person with a priva...</td>\n",
       "      <td>Nice and cozy roon for one person with a priva...</td>\n",
       "      <td>Nice and cozy roon for one person with a priva...</td>\n",
       "      <td>none</td>\n",
       "      <td>Es un barrio muy tranquilo, en una zona de Mad...</td>\n",
       "      <td>...</td>\n",
       "      <td>f</td>\n",
       "      <td>f</td>\n",
       "      <td>strict_14_with_grace_period</td>\n",
       "      <td>f</td>\n",
       "      <td>f</td>\n",
       "      <td>2</td>\n",
       "      <td>0</td>\n",
       "      <td>2</td>\n",
       "      <td>0</td>\n",
       "      <td>1.16</td>\n",
       "    </tr>\n",
       "  </tbody>\n",
       "</table>\n",
       "<p>5 rows × 106 columns</p>\n",
       "</div>"
      ],
      "text/plain": [
       "      id                         listing_url       scrape_id last_scraped  \\\n",
       "0   6369   https://www.airbnb.com/rooms/6369  20190206175658   2019-02-06   \n",
       "1  21853  https://www.airbnb.com/rooms/21853  20190206175658   2019-02-06   \n",
       "2  24836  https://www.airbnb.com/rooms/24836  20190206175658   2019-02-06   \n",
       "3  26823  https://www.airbnb.com/rooms/26823  20190206175658   2019-02-06   \n",
       "4  26825  https://www.airbnb.com/rooms/26825  20190206175658   2019-02-06   \n",
       "\n",
       "                                                name  \\\n",
       "0  Rooftop terrace room with ensuite bathroom, Airc.   \n",
       "1                               Bright and airy room   \n",
       "2                     Select the Madrid more \"cool\".   \n",
       "3                                Roon for two people   \n",
       "4                 Single Room whith private Bathroom   \n",
       "\n",
       "                                             summary  \\\n",
       "0  Atico en la calle Principe de Vergara, con bañ...   \n",
       "1  We have a quiet and sunny room with a good vie...   \n",
       "2  Apartamento céntrico junto a Gran Vía (VT-296)...   \n",
       "3                                                NaN   \n",
       "4  Nice and cozy roon for one person with a priva...   \n",
       "\n",
       "                                               space  \\\n",
       "0  BETTER THAN A HOTEL.Upscale neighboorhood (Met...   \n",
       "1  I am living in a nice flat near the centre of ...   \n",
       "2  Select the Madrid more \"cool\" : 70 m, 2 bedroo...   \n",
       "3  Room for two person with dressing room and bat...   \n",
       "4  Nice and cozy roon for one person with a priva...   \n",
       "\n",
       "                                         description experiences_offered  \\\n",
       "0  BETTER THAN A HOTEL.Upscale neighboorhood (Met...                none   \n",
       "1  We have a quiet and sunny room with a good vie...                none   \n",
       "2  Select the Madrid more \"cool\" : 70 m, 2 bedroo...                none   \n",
       "3  Room for two person with dressing room and bat...                none   \n",
       "4  Nice and cozy roon for one person with a priva...                none   \n",
       "\n",
       "                               neighborhood_overview        ...          \\\n",
       "0  Nice and definitely  non touristic neighborhoo...        ...           \n",
       "1  We live in a leafy neighbourhood with plenty o...        ...           \n",
       "2  Cosmopolita, lleno de locales de moda, restaur...        ...           \n",
       "3                                                NaN        ...           \n",
       "4  Es un barrio muy tranquilo, en una zona de Mad...        ...           \n",
       "\n",
       "  instant_bookable is_business_travel_ready          cancellation_policy  \\\n",
       "0                f                        f                     flexible   \n",
       "1                f                        f  strict_14_with_grace_period   \n",
       "2                f                        f                     moderate   \n",
       "3                f                        f                     flexible   \n",
       "4                f                        f  strict_14_with_grace_period   \n",
       "\n",
       "  require_guest_profile_picture require_guest_phone_verification  \\\n",
       "0                             f                                f   \n",
       "1                             f                                f   \n",
       "2                             f                                f   \n",
       "3                             f                                f   \n",
       "4                             f                                f   \n",
       "\n",
       "   calculated_host_listings_count  \\\n",
       "0                               1   \n",
       "1                               2   \n",
       "2                               1   \n",
       "3                               2   \n",
       "4                               2   \n",
       "\n",
       "   calculated_host_listings_count_entire_homes  \\\n",
       "0                                            0   \n",
       "1                                            0   \n",
       "2                                            1   \n",
       "3                                            0   \n",
       "4                                            0   \n",
       "\n",
       "  calculated_host_listings_count_private_rooms  \\\n",
       "0                                            1   \n",
       "1                                            2   \n",
       "2                                            0   \n",
       "3                                            2   \n",
       "4                                            2   \n",
       "\n",
       "   calculated_host_listings_count_shared_rooms  reviews_per_month  \n",
       "0                                            0               0.55  \n",
       "1                                            0               0.63  \n",
       "2                                            0               0.56  \n",
       "3                                            0               0.28  \n",
       "4                                            0               1.16  \n",
       "\n",
       "[5 rows x 106 columns]"
      ]
     },
     "execution_count": 4,
     "metadata": {},
     "output_type": "execute_result"
    }
   ],
   "source": [
    "#Todas las columnas están en minúsculas y no hay espacios\n",
    "df_feb.head()"
   ]
  },
  {
   "cell_type": "markdown",
   "metadata": {},
   "source": [
    "El **primer criterio** utilizado para simplificar la información contenida en la tabla es el de encontrar aquellas columnas prescindibles."
   ]
  },
  {
   "cell_type": "code",
   "execution_count": 5,
   "metadata": {},
   "outputs": [],
   "source": [
    "#Comprobamos chequeando la URL que significa cada columna y eliminamos las que son solo de consulta, \n",
    "\n",
    "a_borrar_consulta = ['listing_url','host_url']\n",
    "\n",
    "#campos de texto sin relevancia, variables redundantes o URL`s que no nos sirven para el análisis. \n",
    "#Normalmente los campos de texto no vienen predeterminados por AirBnb y por tanto no tienen formato establecido.\n",
    "\n",
    "a_borrar_texto = ['summary','space','neighborhood_overview','notes'\n",
    "                     ,'transit','access','interaction','house_rules']\n",
    "a_borrar_redundantes = ['scrape_id','calendar_last_scraped','jurisdiction_names','country'\n",
    "                        ,'country_code','street','market']\n",
    "a_borrar_urls = ['thumbnail_url','picture_url','medium_url','xl_picture_url','host_thumbnail_url','host_picture_url']\n",
    "\n",
    "#Las siguientes columnas son eliminadas por el desconocimiento del método de cálculo o por no comprender que significan\n",
    "\n",
    "a_borrar_desconocidas = ['is_location_exact','maximum_maximum_nights','maximum_minimum_nights','minimum_minimum_nights'\n",
    "                        ,'minimum_minimum_nights','minimum_maximum_nights','is_business_travel_ready',\n",
    "                         'host_verifications','host_identity_verified']\n",
    "#Las siguientes hacen referencia al método de scrapping o están condicionadas por el momento concreto en el que se hizo\n",
    "\n",
    "a_borrar_scrapping = ['maximum_nights','minimum_nights','calendar_updated','has_availability']\n",
    "\n",
    "#Por último, estos requerimientos no son necesarios:\n",
    "\n",
    "a_borrar_irrelevantes = ['require_guest_profile_picture','require_guest_phone_verification']"
   ]
  },
  {
   "cell_type": "code",
   "execution_count": 6,
   "metadata": {},
   "outputs": [
    {
     "data": {
      "text/plain": [
       "(17358, 71)"
      ]
     },
     "execution_count": 6,
     "metadata": {},
     "output_type": "execute_result"
    }
   ],
   "source": [
    "#Juntamos todas las columnas, las eliminamos y comprobamos cuánto se han reducido\n",
    "Useless = a_borrar_texto+a_borrar_redundantes+a_borrar_urls+a_borrar_desconocidas+a_borrar_scrapping+a_borrar_irrelevantes\n",
    "df_feb.drop(Useless,axis=1,inplace=True)\n",
    "df_feb.shape\n"
   ]
  },
  {
   "cell_type": "markdown",
   "metadata": {},
   "source": [
    "El **segundo criterio** para reducir las dimensiones es eliminar aquellas columnas que contengan al menos un 30% de nulos, ya que no serán útiles con tanta información perdida."
   ]
  },
  {
   "cell_type": "code",
   "execution_count": 7,
   "metadata": {},
   "outputs": [
    {
     "data": {
      "image/png": "[encoded data removed]",
      "text/plain": [
       "<Figure size 1584x504 with 1 Axes>"
      ]
     },
     "metadata": {
      "needs_background": "light"
     },
     "output_type": "display_data"
    }
   ],
   "source": [
    "#Representamos gráficamente el % de nulos de las columnas restantes\n",
    "missing = df_feb.isnull().sum()/df_feb.shape[0]\n",
    "ax = missing.plot(kind='bar',figsize=(22,7))\n",
    "ax.set_xlabel('columnas',fontsize=18)\n",
    "ax.set_ylabel('% fatos que faltan',fontsize=18)\n",
    "ax.set_title('Selección de columnas',fontsize=22)\n",
    "plt.show()\n"
   ]
  },
  {
   "cell_type": "code",
   "execution_count": 8,
   "metadata": {},
   "outputs": [
    {
     "data": {
      "text/plain": [
       "['host_about',\n",
       " 'host_response_time',\n",
       " 'host_response_rate',\n",
       " 'host_acceptance_rate',\n",
       " 'square_feet',\n",
       " 'weekly_price',\n",
       " 'monthly_price',\n",
       " 'security_deposit',\n",
       " 'license']"
      ]
     },
     "execution_count": 8,
     "metadata": {},
     "output_type": "execute_result"
    }
   ],
   "source": [
    "nulos_feb = missing.loc[missing > 0.3].index\n",
    "nulos_lista_feb = list(nulos_feb)\n",
    "nulos_lista_feb"
   ]
  },
  {
   "cell_type": "code",
   "execution_count": 9,
   "metadata": {},
   "outputs": [
    {
     "data": {
      "text/plain": [
       "(17358, 62)"
      ]
     },
     "execution_count": 9,
     "metadata": {},
     "output_type": "execute_result"
    }
   ],
   "source": [
    "#Tenemos 62 columnas para realizar el análisis, pudiendo ser reducidas en el futuro en caso de ser considerado.\n",
    "df_feb.drop(nulos_lista_feb, axis = 1, inplace = True)\n",
    "df_feb.shape"
   ]
  },
  {
   "cell_type": "code",
   "execution_count": 10,
   "metadata": {
    "scrolled": true
   },
   "outputs": [],
   "source": [
    "#Obtenemos el % de nulos para cada periodo en Madrid, la segunda parte de la función se utiliza\n",
    "#para eliminar aquellos campos que no se usaban en el momento del scrapping.\n",
    "def saca_nulos(file):\n",
    "    try:\n",
    "        df_month = pd.read_csv(file,compression='gzip',low_memory=False)\n",
    "        global Useless\n",
    "        df_month.drop(Useless,axis=1,inplace = True)\n",
    "        missing = df_month.isnull().sum()/df_month.shape[0]\n",
    "        nulos_month = missing.loc[missing > 0.3].index\n",
    "        return list(nulos_month)\n",
    "    except:\n",
    "        df_month = pd.read_csv(file,compression='gzip',low_memory=False)\n",
    "        global a_borrar_desconocidas\n",
    "        a_borrar_desconocidas = ['is_location_exact','is_business_travel_ready',\n",
    "                         'host_verifications','host_identity_verified']\n",
    "        Useless = a_borrar_texto+a_borrar_redundantes+a_borrar_urls+a_borrar_desconocidas+a_borrar_scrapping+a_borrar_irrelevantes\n",
    "        df_month.drop(Useless,axis=1,inplace = True)\n",
    "        missing = df_month.isnull().sum()/df_month.shape[0]\n",
    "        nulos_month = missing.loc[missing > 0.3].index\n",
    "        return list(nulos_month)\n"
   ]
  },
  {
   "cell_type": "code",
   "execution_count": 11,
   "metadata": {},
   "outputs": [],
   "source": [
    "filenames = ['Data/Madrid/listings0.csv.gz','Data/Madrid/listings1.csv.gz',\n",
    "             'Data/Madrid/listings2.csv.gz','Data/Madrid/listings3.csv.gz',\n",
    "             'Data/Madrid/listings4.csv.gz','Data/Madrid/listings5.csv.gz',\n",
    "             'Data/Madrid/listings6.csv.gz','Data/Madrid/listings7.csv.gz',\n",
    "             'Data/Madrid/listings8.csv.gz','Data/Madrid/listings9.csv.gz']\n",
    "months = ['ene','dic','oct','sep','ago','jul','may','abr','ene']\n"
   ]
  },
  {
   "cell_type": "code",
   "execution_count": 12,
   "metadata": {},
   "outputs": [],
   "source": [
    "lista_nulos_por_periodo = []\n",
    "for f in filenames:\n",
    "    a = saca_nulos(f)\n",
    "    lista_nulos_por_periodo.append(a)\n"
   ]
  },
  {
   "cell_type": "code",
   "execution_count": 13,
   "metadata": {},
   "outputs": [
    {
     "data": {
      "text/plain": [
       "[['host_about',\n",
       "  'host_response_time',\n",
       "  'host_response_rate',\n",
       "  'host_acceptance_rate',\n",
       "  'square_feet',\n",
       "  'weekly_price',\n",
       "  'monthly_price',\n",
       "  'security_deposit',\n",
       "  'license'],\n",
       " ['host_about',\n",
       "  'host_response_time',\n",
       "  'host_response_rate',\n",
       "  'host_acceptance_rate',\n",
       "  'square_feet',\n",
       "  'weekly_price',\n",
       "  'monthly_price',\n",
       "  'security_deposit',\n",
       "  'license'],\n",
       " ['host_about',\n",
       "  'host_acceptance_rate',\n",
       "  'square_feet',\n",
       "  'weekly_price',\n",
       "  'monthly_price',\n",
       "  'security_deposit',\n",
       "  'license'],\n",
       " ['host_about',\n",
       "  'host_response_time',\n",
       "  'host_response_rate',\n",
       "  'host_acceptance_rate',\n",
       "  'square_feet',\n",
       "  'weekly_price',\n",
       "  'monthly_price',\n",
       "  'security_deposit',\n",
       "  'license'],\n",
       " ['host_about',\n",
       "  'host_response_time',\n",
       "  'host_response_rate',\n",
       "  'host_acceptance_rate',\n",
       "  'square_feet',\n",
       "  'weekly_price',\n",
       "  'monthly_price',\n",
       "  'security_deposit',\n",
       "  'license'],\n",
       " ['host_about',\n",
       "  'host_acceptance_rate',\n",
       "  'square_feet',\n",
       "  'weekly_price',\n",
       "  'monthly_price',\n",
       "  'security_deposit',\n",
       "  'license'],\n",
       " ['host_about',\n",
       "  'host_acceptance_rate',\n",
       "  'square_feet',\n",
       "  'weekly_price',\n",
       "  'monthly_price',\n",
       "  'security_deposit',\n",
       "  'license'],\n",
       " ['host_about',\n",
       "  'host_acceptance_rate',\n",
       "  'square_feet',\n",
       "  'weekly_price',\n",
       "  'monthly_price',\n",
       "  'security_deposit',\n",
       "  'license'],\n",
       " ['host_about',\n",
       "  'host_acceptance_rate',\n",
       "  'square_feet',\n",
       "  'weekly_price',\n",
       "  'monthly_price',\n",
       "  'security_deposit',\n",
       "  'license'],\n",
       " ['host_about',\n",
       "  'host_acceptance_rate',\n",
       "  'square_feet',\n",
       "  'weekly_price',\n",
       "  'monthly_price',\n",
       "  'security_deposit',\n",
       "  'license']]"
      ]
     },
     "execution_count": 13,
     "metadata": {},
     "output_type": "execute_result"
    }
   ],
   "source": [
    "#Comprobamos que nos devuelve una lista de listas dividida por meses\n",
    "lista_nulos_por_periodo"
   ]
  },
  {
   "cell_type": "code",
   "execution_count": 14,
   "metadata": {
    "scrolled": true
   },
   "outputs": [],
   "source": [
    "#Como lo que nos interesa es borrar aquellas columnas que han sido más de un 30% nulas \n",
    "#debemos obtener los valores únicos en la lista\n",
    "lista_demasiados_nulos = []\n",
    "for i in range(len(filenames)):\n",
    "    for x in lista_nulos_por_periodo[i]:\n",
    "        if x not in lista_demasiados_nulos:\n",
    "            lista_demasiados_nulos.append(x)"
   ]
  },
  {
   "cell_type": "code",
   "execution_count": 15,
   "metadata": {},
   "outputs": [
    {
     "data": {
      "text/plain": [
       "10"
      ]
     },
     "execution_count": 15,
     "metadata": {},
     "output_type": "execute_result"
    }
   ],
   "source": [
    "len(filenames)"
   ]
  },
  {
   "cell_type": "code",
   "execution_count": 16,
   "metadata": {},
   "outputs": [
    {
     "data": {
      "text/plain": [
       "['host_about',\n",
       " 'host_response_time',\n",
       " 'host_response_rate',\n",
       " 'host_acceptance_rate',\n",
       " 'square_feet',\n",
       " 'weekly_price',\n",
       " 'monthly_price',\n",
       " 'security_deposit',\n",
       " 'license']"
      ]
     },
     "execution_count": 16,
     "metadata": {},
     "output_type": "execute_result"
    }
   ],
   "source": [
    "#Estas son las columnas que borraremos de cualquier periodo a analizar(en Madrid) para que los datos sean consistentes\n",
    "lista_demasiados_nulos"
   ]
  }
 ],
 "metadata": {
  "kernelspec": {
   "display_name": "Python 3",
   "language": "python",
   "name": "python3"
  },
  "language_info": {
   "codemirror_mode": {
    "name": "ipython",
    "version": 3
   },
   "file_extension": ".py",
   "mimetype": "text/x-python",
   "name": "python",
   "nbconvert_exporter": "python",
   "pygments_lexer": "ipython3",
   "version": "3.7.1"
  }
 },
 "nbformat": 4,
 "nbformat_minor": 2
}
